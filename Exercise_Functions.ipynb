{
  "metadata": {
    "kernelspec": {
      "display_name": "Python 3",
      "language": "python",
      "name": "python3"
    },
    "language_info": {
      "name": "python",
      "version": "3.10.12",
      "mimetype": "text/x-python",
      "codemirror_mode": {
        "name": "ipython",
        "version": 3
      },
      "pygments_lexer": "ipython3",
      "nbconvert_exporter": "python",
      "file_extension": ".py"
    },
    "kaggle": {
      "accelerator": "none",
      "dataSources": [],
      "isInternetEnabled": false,
      "language": "python",
      "sourceType": "notebook",
      "isGpuEnabled": false
    },
    "colab": {
      "name": "Exercise: Functions",
      "provenance": [],
      "include_colab_link": true
    }
  },
  "nbformat_minor": 0,
  "nbformat": 4,
  "cells": [
    {
      "cell_type": "markdown",
      "metadata": {
        "id": "view-in-github",
        "colab_type": "text"
      },
      "source": [
        "<a href=\"https://colab.research.google.com/github/Lorna0001/ENG-219-083-2023/blob/Assignment-2--functions/Exercise_Functions.ipynb\" target=\"_parent\"><img src=\"https://colab.research.google.com/assets/colab-badge.svg\" alt=\"Open In Colab\"/></a>"
      ]
    },
    {
      "cell_type": "markdown",
      "source": [
        "In the tutorial, you learned about functions. In this exercise, you'll write some of your own!\n",
        "\n",
        "# Set up the notebook\n",
        "\n",
        "Run the next code cell without changes to set up the notebook."
      ],
      "metadata": {
        "id": "4UoOElhBgADe"
      }
    },
    {
      "cell_type": "markdown",
      "source": [
        "**This notebook is an exercise in the [Intro to Programming](https://www.kaggle.com/learn/intro-to-programming) course.  You can reference the tutorial at [this link](https://www.kaggle.com/alexisbcook/functions).**\n",
        "\n",
        "---\n"
      ],
      "metadata": {
        "id": "zFk75diUgADr"
      }
    },
    {
      "cell_type": "code",
      "source": [
        "# Set up the exercise\n",
        "import math\n",
        "from learntools.core import binder\n",
        "binder.bind(globals())\n",
        "from learntools.intro_to_programming.ex2 import *\n",
        "print('Setup complete.')"
      ],
      "metadata": {
        "trusted": true,
        "execution": {
          "iopub.status.busy": "2025-02-24T14:11:28.455242Z",
          "iopub.execute_input": "2025-02-24T14:11:28.455628Z",
          "iopub.status.idle": "2025-02-24T14:11:29.141698Z",
          "shell.execute_reply.started": "2025-02-24T14:11:28.455595Z",
          "shell.execute_reply": "2025-02-24T14:11:29.140741Z"
        },
        "id": "qGo7mJHCgADx",
        "outputId": "df541531-fe5c-4199-ead1-c41d2951eed8"
      },
      "outputs": [
        {
          "name": "stdout",
          "text": "Setup complete.\n",
          "output_type": "stream"
        }
      ],
      "execution_count": null
    },
    {
      "cell_type": "markdown",
      "source": [
        "# Question 1\n",
        "\n",
        "In the [House Prices - Advanced Regression Techniques competition](https://www.kaggle.com/c/house-prices-advanced-regression-techniques/overview), you need to use information like the number of bedrooms and bathrooms to predict the price of a house.  Inspired by this competition, you'll write your own function to do this.\n",
        "\n",
        "In the next code cell, create a function `get_expected_cost()` that has two arguments:\n",
        "- `beds` - number of bedrooms\n",
        "- `baths` - number of bathrooms\n",
        "\n",
        "It should return the expected cost of a house with that number of bedrooms and bathrooms.  Assume that:\n",
        "- the expected cost for a house with 0 bedrooms and 0 bathrooms is `80000`.  \n",
        "- each bedroom adds `30000` to the expected cost\n",
        "- each bathroom adds `10000` to the expected cost.\n",
        "\n",
        "For instance,\n",
        "- a house with 1 bedroom and 1 bathroom has an expected cost of `120000`, and\n",
        "- a house with 2 bedrooms and 1 bathroom has an expected cost of `150000`."
      ],
      "metadata": {
        "id": "8EW3oqzhgAD8"
      }
    },
    {
      "cell_type": "code",
      "source": [
        "# TODO: Complete the function\n",
        "def get_expected_cost(beds, baths):\n",
        "    base_cost= 80000\n",
        "    total_bedroom_cost = 30000*beds\n",
        "    total_bathroom_cost =10000*baths\n",
        "    value = 80000+ 30000*beds + 10000* baths\n",
        "    return value\n",
        "\n",
        "# Check your answer\n",
        "q1.check()"
      ],
      "metadata": {
        "execution": {
          "iopub.status.busy": "2025-02-24T14:27:10.563984Z",
          "iopub.execute_input": "2025-02-24T14:27:10.564291Z",
          "iopub.status.idle": "2025-02-24T14:27:10.570436Z",
          "shell.execute_reply.started": "2025-02-24T14:27:10.564269Z",
          "shell.execute_reply": "2025-02-24T14:27:10.569844Z"
        },
        "trusted": true,
        "id": "Vh3PKnUHgAED",
        "outputId": "38234ea9-4a98-431a-80b9-b167a104d558"
      },
      "outputs": [
        {
          "output_type": "display_data",
          "data": {
            "text/plain": "<IPython.core.display.Javascript object>",
            "application/javascript": "parent.postMessage({\"jupyterEvent\": \"custom.exercise_interaction\", \"data\": {\"outcomeType\": 1, \"valueTowardsCompletion\": 0.2, \"interactionType\": 1, \"questionType\": 2, \"questionId\": \"1_GetExpectedCost\", \"learnToolsVersion\": \"0.3.4\", \"failureMessage\": \"\", \"exceptionClass\": \"\", \"trace\": \"\"}}, \"*\")"
          },
          "metadata": {}
        },
        {
          "output_type": "display_data",
          "data": {
            "text/plain": "Correct",
            "text/markdown": "<span style=\"color:#33cc33\">Correct</span>"
          },
          "metadata": {}
        }
      ],
      "execution_count": null
    },
    {
      "cell_type": "code",
      "source": [
        "# Uncomment to see a hint\n",
        "#q1.hint()\n",
        "\n",
        "# Uncomment to view the solution\n",
        "#q1.solution()"
      ],
      "metadata": {
        "execution": {
          "iopub.status.busy": "2025-02-24T14:24:04.435433Z",
          "iopub.execute_input": "2025-02-24T14:24:04.435689Z",
          "iopub.status.idle": "2025-02-24T14:24:04.44193Z",
          "shell.execute_reply.started": "2025-02-24T14:24:04.435669Z",
          "shell.execute_reply": "2025-02-24T14:24:04.44114Z"
        },
        "trusted": true,
        "id": "_ZjxlboEgAEH",
        "outputId": "3651d75a-b9a9-45c4-8241-069627ec0c4c"
      },
      "outputs": [
        {
          "output_type": "display_data",
          "data": {
            "text/plain": "<IPython.core.display.Javascript object>",
            "application/javascript": "parent.postMessage({\"jupyterEvent\": \"custom.exercise_interaction\", \"data\": {\"interactionType\": 3, \"questionType\": 2, \"questionId\": \"1_GetExpectedCost\", \"learnToolsVersion\": \"0.3.4\", \"valueTowardsCompletion\": 0.0, \"failureMessage\": \"\", \"exceptionClass\": \"\", \"trace\": \"\", \"outcomeType\": 4}}, \"*\")"
          },
          "metadata": {}
        },
        {
          "output_type": "display_data",
          "data": {
            "text/plain": "Solution: \n```python\n\ndef get_expected_cost(beds, baths):\n    value = 80000 + 30000 * beds + 10000 * baths\n    return value\n\n```",
            "text/markdown": "<span style=\"color:#33cc99\">Solution:</span> \n```python\n\ndef get_expected_cost(beds, baths):\n    value = 80000 + 30000 * beds + 10000 * baths\n    return value\n\n```"
          },
          "metadata": {}
        }
      ],
      "execution_count": null
    },
    {
      "cell_type": "markdown",
      "source": [
        "# Question 2\n",
        "\n",
        "You are thinking about buying a home and want to get an idea of how much you will spend, based on the number of bedrooms and bathrooms.  You are trying to decide between four different options:\n",
        "- Option 1: house with two bedrooms and three bathrooms\n",
        "- Option 2: house with three bedrooms and two bathrooms\n",
        "- Option 3: house with three bedrooms and three bathrooms\n",
        "- Option 4: house with three bedrooms and four bathrooms\n",
        "\n",
        "Use the `get_expected_cost()` function you defined in question 1 to set `option_1`, `option_2`, `option_3`, and `option_4` to the expected cost of each option."
      ],
      "metadata": {
        "id": "d3--dMPLgAEM"
      }
    },
    {
      "cell_type": "code",
      "source": [
        "# TODO: Use the get_expected_cost function to fill in each value\n",
        "option_one = 80000 + 30000*2 + 10000*3\n",
        "option_two = 80000 + 30000*3 + 10000*2\n",
        "option_three = 80000+ 30000*3 +10000*3\n",
        "option_four = 80000 +30000*3 +10000*4\n",
        "\n",
        "print(option_one)\n",
        "print(option_two)\n",
        "print(option_three)\n",
        "print(option_four)\n",
        "\n",
        "# Check your answer\n",
        "q2.check()"
      ],
      "metadata": {
        "execution": {
          "iopub.status.busy": "2025-02-24T14:31:00.190286Z",
          "iopub.execute_input": "2025-02-24T14:31:00.190568Z",
          "iopub.status.idle": "2025-02-24T14:31:00.198665Z",
          "shell.execute_reply.started": "2025-02-24T14:31:00.190544Z",
          "shell.execute_reply": "2025-02-24T14:31:00.197577Z"
        },
        "trusted": true,
        "id": "hCMIQTAYgAEQ",
        "outputId": "06691fde-c56b-407a-9469-6abf2d4106a4"
      },
      "outputs": [
        {
          "name": "stdout",
          "text": "170000\n190000\n200000\n210000\n",
          "output_type": "stream"
        },
        {
          "output_type": "display_data",
          "data": {
            "text/plain": "<IPython.core.display.Javascript object>",
            "application/javascript": "parent.postMessage({\"jupyterEvent\": \"custom.exercise_interaction\", \"data\": {\"outcomeType\": 1, \"valueTowardsCompletion\": 0.2, \"interactionType\": 1, \"questionType\": 1, \"questionId\": \"2_RunGetExpectedCost\", \"learnToolsVersion\": \"0.3.4\", \"failureMessage\": \"\", \"exceptionClass\": \"\", \"trace\": \"\"}}, \"*\")"
          },
          "metadata": {}
        },
        {
          "output_type": "display_data",
          "data": {
            "text/plain": "Correct",
            "text/markdown": "<span style=\"color:#33cc33\">Correct</span>"
          },
          "metadata": {}
        }
      ],
      "execution_count": null
    },
    {
      "cell_type": "code",
      "source": [
        "# Uncomment to see a hint\n",
        "#q2.hint()\n",
        "\n",
        "# Uncomment to view the solution\n",
        "#q2.solution()"
      ],
      "metadata": {
        "id": "Rx888YiUgAEV"
      },
      "outputs": [],
      "execution_count": null
    },
    {
      "cell_type": "markdown",
      "source": [
        "# Question 3\n",
        "\n",
        "You're a home decorator, and you'd like to use Python to streamline some of your work.  Specifically, you're creating a tool that you intend to use to calculate the cost of painting a room.\n",
        "\n",
        "As a first step, define a function `get_cost()` that takes as input:\n",
        "- `sqft_walls` = total square feet of walls to be painted\n",
        "- `sqft_ceiling` = square feet of ceiling to be painted\n",
        "- `sqft_per_gallon` = number of square feet that you can cover with one gallon of paint\n",
        "- `cost_per_gallon` = cost (in dollars) of one gallon of paint\n",
        "\n",
        "It should return the cost (in dollars) of putting one coat of paint on all walls and the ceiling.  Assume you can buy the exact amount of paint that you need, so you can buy partial gallons (e.g., if you need 7.523 gallons, you can buy that exact amount, instead of needing to buy 8 gallons and waste some paint).  Do not round your answer."
      ],
      "metadata": {
        "id": "jPyel5FogAEY"
      }
    },
    {
      "cell_type": "code",
      "source": [
        "# TODO: Finish defining the function\n",
        "def get_cost(sqft_walls, sqft_ceiling, sqft_per_gallon, cost_per_gallon):\n",
        "    total_sqft=sqft_walls+sqft_ceiling\n",
        "    gallons_needed= total_sqft/ sqft_per_gallon\n",
        "    cost = cost_per_gallon*gallons_needed\n",
        "    return cost\n",
        "\n",
        "# Check your answer\n",
        "q3.check()"
      ],
      "metadata": {
        "execution": {
          "iopub.status.busy": "2025-02-24T14:41:46.825248Z",
          "iopub.execute_input": "2025-02-24T14:41:46.825531Z",
          "iopub.status.idle": "2025-02-24T14:41:46.832158Z",
          "shell.execute_reply.started": "2025-02-24T14:41:46.825508Z",
          "shell.execute_reply": "2025-02-24T14:41:46.83142Z"
        },
        "trusted": true,
        "id": "GybCB7xlgAEc",
        "outputId": "86d990f3-8acf-4359-816b-96ba9f476793"
      },
      "outputs": [
        {
          "output_type": "display_data",
          "data": {
            "text/plain": "<IPython.core.display.Javascript object>",
            "application/javascript": "parent.postMessage({\"jupyterEvent\": \"custom.exercise_interaction\", \"data\": {\"outcomeType\": 1, \"valueTowardsCompletion\": 0.2, \"interactionType\": 1, \"questionType\": 2, \"questionId\": \"3_GetCostPaint\", \"learnToolsVersion\": \"0.3.4\", \"failureMessage\": \"\", \"exceptionClass\": \"\", \"trace\": \"\"}}, \"*\")"
          },
          "metadata": {}
        },
        {
          "output_type": "display_data",
          "data": {
            "text/plain": "Correct",
            "text/markdown": "<span style=\"color:#33cc33\">Correct</span>"
          },
          "metadata": {}
        }
      ],
      "execution_count": null
    },
    {
      "cell_type": "code",
      "source": [
        "# Uncomment to see a hint\n",
        "#q3.hint()\n",
        "\n",
        "# Uncomment to view the solution\n",
        "#q3.solution()"
      ],
      "metadata": {
        "trusted": true,
        "execution": {
          "iopub.status.busy": "2025-02-24T14:41:56.918496Z",
          "iopub.execute_input": "2025-02-24T14:41:56.91881Z",
          "iopub.status.idle": "2025-02-24T14:41:56.922059Z",
          "shell.execute_reply.started": "2025-02-24T14:41:56.918756Z",
          "shell.execute_reply": "2025-02-24T14:41:56.921249Z"
        },
        "id": "s74_8Q40gAEj"
      },
      "outputs": [],
      "execution_count": null
    },
    {
      "cell_type": "markdown",
      "source": [
        "# Question 4\n",
        "\n",
        "Use the `get_cost()` function you defined in Question 3 to calculate the cost of applying one coat of paint to a room with:\n",
        "- 432 square feet of walls, and\n",
        "- 144 square feet of ceiling.\n",
        "\n",
        "Assume that one gallon of paint covers 400 square feet and costs $15.  As in Question 3, assume you can buy partial gallons of paint.  Do not round your answer."
      ],
      "metadata": {
        "id": "v7_XbQg-gAEl"
      }
    },
    {
      "cell_type": "code",
      "source": [
        "# Find the total square feet to be covered by paint\n",
        "total_sqft= 432+144\n",
        "#Find the total number of gallons needed\n",
        "needed_gallons= total_sqft/400\n",
        "# TODO: Set the project_cost variable to the cost of the project\n",
        "project_cost = 15*needed_gallons\n",
        "\n",
        "# Check your answer\n",
        "q4.check()"
      ],
      "metadata": {
        "execution": {
          "iopub.status.busy": "2025-02-24T14:46:20.832877Z",
          "iopub.execute_input": "2025-02-24T14:46:20.833146Z",
          "iopub.status.idle": "2025-02-24T14:46:20.838855Z",
          "shell.execute_reply.started": "2025-02-24T14:46:20.833126Z",
          "shell.execute_reply": "2025-02-24T14:46:20.838196Z"
        },
        "trusted": true,
        "id": "IIVmYEN8gAEm",
        "outputId": "727ef2b1-97e6-4613-83e3-eb50c5668cd0"
      },
      "outputs": [
        {
          "output_type": "display_data",
          "data": {
            "text/plain": "<IPython.core.display.Javascript object>",
            "application/javascript": "parent.postMessage({\"jupyterEvent\": \"custom.exercise_interaction\", \"data\": {\"outcomeType\": 1, \"valueTowardsCompletion\": 0.2, \"interactionType\": 1, \"questionType\": 1, \"questionId\": \"4_GetCostPaintExample\", \"learnToolsVersion\": \"0.3.4\", \"failureMessage\": \"\", \"exceptionClass\": \"\", \"trace\": \"\"}}, \"*\")"
          },
          "metadata": {}
        },
        {
          "output_type": "display_data",
          "data": {
            "text/plain": "Correct",
            "text/markdown": "<span style=\"color:#33cc33\">Correct</span>"
          },
          "metadata": {}
        }
      ],
      "execution_count": null
    },
    {
      "cell_type": "code",
      "source": [
        "# Uncomment to see a hint\n",
        "#q4.hint()\n",
        "\n",
        "# Uncomment to view the solution\n",
        "#q4.solution()"
      ],
      "metadata": {
        "id": "zEe_dNiTgAEo"
      },
      "outputs": [],
      "execution_count": null
    },
    {
      "cell_type": "markdown",
      "source": [
        "# 🌶️ Question 5\n",
        "\n",
        "Now say you can no longer buy fractions of a gallon.  (For instance, if you need 4.3 gallons to do a project, then you have to buy 5 gallons of paint.)\n",
        "\n",
        "With this new scenario, you will create a new function `get_actual_cost` that uses the same inputs and calculates the cost of your project.\n",
        "\n",
        "One function that you'll need to use to do this is `math.ceil()`.  We demonstrate usage of this function in the code cell below.  It takes as a number as input and rounds the number up to the nearest integer.  \n",
        "\n",
        "Run the next code cell to test this function for yourself.  Feel free to change the value of `test_value` and make sure `math.ceil()` returns the number you expect."
      ],
      "metadata": {
        "id": "-SQjK7bkgAEp"
      }
    },
    {
      "cell_type": "code",
      "source": [
        "test_value = 2.17\n",
        "\n",
        "rounded_value = math.ceil(test_value)\n",
        "print(rounded_value)"
      ],
      "metadata": {
        "execution": {
          "iopub.status.busy": "2025-02-24T14:48:13.66964Z",
          "iopub.execute_input": "2025-02-24T14:48:13.669953Z",
          "iopub.status.idle": "2025-02-24T14:48:13.674215Z",
          "shell.execute_reply.started": "2025-02-24T14:48:13.66993Z",
          "shell.execute_reply": "2025-02-24T14:48:13.673403Z"
        },
        "trusted": true,
        "id": "fVfEjyvygAEr",
        "outputId": "04c3726a-059d-46b5-c842-63b52a453e76"
      },
      "outputs": [
        {
          "name": "stdout",
          "text": "3\n",
          "output_type": "stream"
        }
      ],
      "execution_count": null
    },
    {
      "cell_type": "markdown",
      "source": [
        "Use the next code cell to define the function `get_actual_cost()`.  You'll need to use the `math.ceil()` function to do this.\n",
        "\n",
        "When answering this question, note that it's completely valid to define a function that makes use of another function.  For instance, we can define a function `round_up_and_divide_by_three` that makes use of the `math.ceil` function:\n",
        "```\n",
        "def round_up_and_divide_by_three(num):\n",
        "    new_value = math.ceil(num)\n",
        "    final_value = new_value / 3\n",
        "    return final_value\n",
        "```"
      ],
      "metadata": {
        "id": "HSCQbZxjgAEs"
      }
    },
    {
      "cell_type": "code",
      "source": [
        "def get_actual_cost(sqft_walls, sqft_ceiling, sqft_per_gallon, cost_per_gallon):\n",
        "    # Find the total square feet to be painted\n",
        "    total_sqft=sqft_walls + sqft_ceiling\n",
        "    #Find the total amount of gallons to be used\n",
        "    needed_gallons=total_sqft/sqft_per_gallon\n",
        "    #Get the number of gallons to buy\n",
        "    gallons_to_buy=math.ceil(needed_gallons)\n",
        "    #Get the total cost\n",
        "    cost = cost_per_gallon*gallons_to_buy\n",
        "    return cost\n",
        "\n",
        "# Check your answer\n",
        "q5.check()"
      ],
      "metadata": {
        "execution": {
          "iopub.status.busy": "2025-02-24T15:04:34.518904Z",
          "iopub.execute_input": "2025-02-24T15:04:34.519187Z",
          "iopub.status.idle": "2025-02-24T15:04:34.525944Z",
          "shell.execute_reply.started": "2025-02-24T15:04:34.519163Z",
          "shell.execute_reply": "2025-02-24T15:04:34.524744Z"
        },
        "trusted": true,
        "id": "OqzXCZdjgAEt",
        "outputId": "6438c4ec-a1ac-4efd-dd23-8e6dd0686c87"
      },
      "outputs": [
        {
          "output_type": "display_data",
          "data": {
            "text/plain": "<IPython.core.display.Javascript object>",
            "application/javascript": "parent.postMessage({\"jupyterEvent\": \"custom.exercise_interaction\", \"data\": {\"outcomeType\": 1, \"valueTowardsCompletion\": 0.2, \"interactionType\": 1, \"questionType\": 2, \"questionId\": \"5_NoMoreFractions\", \"learnToolsVersion\": \"0.3.4\", \"failureMessage\": \"\", \"exceptionClass\": \"\", \"trace\": \"\"}}, \"*\")"
          },
          "metadata": {}
        },
        {
          "output_type": "display_data",
          "data": {
            "text/plain": "Correct",
            "text/markdown": "<span style=\"color:#33cc33\">Correct</span>"
          },
          "metadata": {}
        }
      ],
      "execution_count": null
    },
    {
      "cell_type": "code",
      "source": [
        "# Uncomment to see a hint\n",
        "#q5.hint()\n",
        "\n",
        "# Uncomment to view the solution\n",
        "q5.solution()"
      ],
      "metadata": {
        "trusted": true,
        "execution": {
          "iopub.status.busy": "2025-02-24T14:57:09.726008Z",
          "iopub.execute_input": "2025-02-24T14:57:09.726284Z",
          "iopub.status.idle": "2025-02-24T14:57:09.732182Z",
          "shell.execute_reply.started": "2025-02-24T14:57:09.726264Z",
          "shell.execute_reply": "2025-02-24T14:57:09.731444Z"
        },
        "id": "x-HL61vXgAEu",
        "outputId": "125416aa-f886-498c-9f28-442e1ec0983e"
      },
      "outputs": [
        {
          "output_type": "display_data",
          "data": {
            "text/plain": "<IPython.core.display.Javascript object>",
            "application/javascript": "parent.postMessage({\"jupyterEvent\": \"custom.exercise_interaction\", \"data\": {\"interactionType\": 3, \"questionType\": 2, \"questionId\": \"5_NoMoreFractions\", \"learnToolsVersion\": \"0.3.4\", \"valueTowardsCompletion\": 0.0, \"failureMessage\": \"\", \"exceptionClass\": \"\", \"trace\": \"\", \"outcomeType\": 4}}, \"*\")"
          },
          "metadata": {}
        },
        {
          "output_type": "display_data",
          "data": {
            "text/plain": "Solution: \n```python\ndef get_actual_cost(sqft_walls, sqft_ceiling, sqft_per_gallon, cost_per_gallon):\n    total_sqft = sqft_walls + sqft_ceiling\n    gallons_needed = total_sqft / sqft_per_gallon\n    gallons_to_buy = math.ceil(gallons_needed)\n    cost = cost_per_gallon * gallons_to_buy\n    return cost\n\n```",
            "text/markdown": "<span style=\"color:#33cc99\">Solution:</span> \n```python\ndef get_actual_cost(sqft_walls, sqft_ceiling, sqft_per_gallon, cost_per_gallon):\n    total_sqft = sqft_walls + sqft_ceiling\n    gallons_needed = total_sqft / sqft_per_gallon\n    gallons_to_buy = math.ceil(gallons_needed)\n    cost = cost_per_gallon * gallons_to_buy\n    return cost\n\n```"
          },
          "metadata": {}
        }
      ],
      "execution_count": null
    },
    {
      "cell_type": "markdown",
      "source": [
        "Once your function is verified as correct, run the next code cell to calculate the updated cost of your project."
      ],
      "metadata": {
        "id": "BB_gjBjXgAEv"
      }
    },
    {
      "cell_type": "code",
      "source": [
        "get_actual_cost(432, 144, 400, 15)"
      ],
      "metadata": {
        "execution": {
          "iopub.status.busy": "2025-02-24T15:04:43.091452Z",
          "iopub.execute_input": "2025-02-24T15:04:43.091696Z",
          "iopub.status.idle": "2025-02-24T15:04:43.096643Z",
          "shell.execute_reply.started": "2025-02-24T15:04:43.091677Z",
          "shell.execute_reply": "2025-02-24T15:04:43.095879Z"
        },
        "trusted": true,
        "id": "rb97_ZCXgAEv",
        "outputId": "f5769b2e-84c3-4b81-8eaa-3a0ef59491d6"
      },
      "outputs": [
        {
          "execution_count": 32,
          "output_type": "execute_result",
          "data": {
            "text/plain": "30"
          },
          "metadata": {}
        }
      ],
      "execution_count": null
    },
    {
      "cell_type": "markdown",
      "source": [
        "Say you're working with a slightly larger room.  Run the next code cell to calculate the cost of the project."
      ],
      "metadata": {
        "id": "eU6dlGBggAEw"
      }
    },
    {
      "cell_type": "code",
      "source": [
        "get_actual_cost(594, 288, 400, 15)"
      ],
      "metadata": {
        "execution": {
          "iopub.status.busy": "2025-02-24T15:04:49.459951Z",
          "iopub.execute_input": "2025-02-24T15:04:49.460271Z",
          "iopub.status.idle": "2025-02-24T15:04:49.466336Z",
          "shell.execute_reply.started": "2025-02-24T15:04:49.460249Z",
          "shell.execute_reply": "2025-02-24T15:04:49.465528Z"
        },
        "trusted": true,
        "id": "ETKOUDOngAEw",
        "outputId": "6f3413f8-99f4-4114-c35e-099469f24733"
      },
      "outputs": [
        {
          "execution_count": 33,
          "output_type": "execute_result",
          "data": {
            "text/plain": "45"
          },
          "metadata": {}
        }
      ],
      "execution_count": null
    },
    {
      "cell_type": "markdown",
      "source": [
        "# Keep going\n",
        "\n",
        "Continue to learn about **[data types](https://www.kaggle.com/alexisbcook/data-types)**."
      ],
      "metadata": {
        "id": "f-wAfHeDgAEx"
      }
    },
    {
      "cell_type": "markdown",
      "source": [
        "---\n",
        "\n",
        "\n",
        "\n",
        "\n",
        "*Have questions or comments? Visit the [course discussion forum](https://www.kaggle.com/learn/intro-to-programming/discussion) to chat with other learners.*"
      ],
      "metadata": {
        "id": "GEt6HiAAgAEx"
      }
    }
  ]
}