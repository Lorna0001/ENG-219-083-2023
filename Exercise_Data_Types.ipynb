{
  "metadata": {
    "kernelspec": {
      "display_name": "Python 3",
      "language": "python",
      "name": "python3"
    },
    "language_info": {
      "name": "python",
      "version": "3.10.12",
      "mimetype": "text/x-python",
      "codemirror_mode": {
        "name": "ipython",
        "version": 3
      },
      "pygments_lexer": "ipython3",
      "nbconvert_exporter": "python",
      "file_extension": ".py"
    },
    "papermill": {
      "default_parameters": {},
      "duration": 15.996115,
      "end_time": "2022-02-15T23:56:55.998786",
      "environment_variables": {},
      "exception": null,
      "input_path": "__notebook__.ipynb",
      "output_path": "__notebook__.ipynb",
      "parameters": {},
      "start_time": "2022-02-15T23:56:40.002671",
      "version": "2.3.3"
    },
    "kaggle": {
      "accelerator": "none",
      "dataSources": [],
      "isInternetEnabled": false,
      "language": "python",
      "sourceType": "notebook",
      "isGpuEnabled": false
    },
    "colab": {
      "name": "Exercise: Data Types",
      "provenance": [],
      "include_colab_link": true
    }
  },
  "nbformat_minor": 5,
  "nbformat": 4,
  "cells": [
    {
      "cell_type": "markdown",
      "metadata": {
        "id": "view-in-github",
        "colab_type": "text"
      },
      "source": [
        "<a href=\"https://colab.research.google.com/github/Lorna0001/ENG-219-083-2023/blob/Data-types-python/Exercise_Data_Types.ipynb\" target=\"_parent\"><img src=\"https://colab.research.google.com/assets/colab-badge.svg\" alt=\"Open In Colab\"/></a>"
      ]
    },
    {
      "id": "df5dc007",
      "cell_type": "markdown",
      "source": [
        "**This notebook is an exercise in the [Intro to Programming](https://www.kaggle.com/learn/intro-to-programming) course.  You can reference the tutorial at [this link](https://www.kaggle.com/alexisbcook/data-types).**\n",
        "\n",
        "---\n"
      ],
      "metadata": {
        "id": "df5dc007"
      }
    },
    {
      "id": "2ef553cf",
      "cell_type": "markdown",
      "source": [
        "In the tutorial, you learned about four different data types: floats, integers, strings, and booleans.  In this exercise, you'll experiment with them.\n",
        "\n",
        "# Set up the notebook\n",
        "\n",
        "Run the next code cell without changes to set up the notebook."
      ],
      "metadata": {
        "papermill": {
          "duration": 0.024307,
          "end_time": "2022-02-15T23:56:51.875254",
          "exception": false,
          "start_time": "2022-02-15T23:56:51.850947",
          "status": "completed"
        },
        "tags": [],
        "id": "2ef553cf"
      }
    },
    {
      "id": "943eb6a1",
      "cell_type": "code",
      "source": [
        "# Set up the exercise\n",
        "from learntools.core import binder\n",
        "binder.bind(globals())\n",
        "from learntools.intro_to_programming.ex3 import *\n",
        "print('Setup complete.')"
      ],
      "metadata": {
        "execution": {
          "iopub.status.busy": "2025-02-24T18:20:37.233459Z",
          "iopub.execute_input": "2025-02-24T18:20:37.23382Z",
          "iopub.status.idle": "2025-02-24T18:20:37.687216Z",
          "shell.execute_reply.started": "2025-02-24T18:20:37.233793Z",
          "shell.execute_reply": "2025-02-24T18:20:37.685927Z"
        },
        "papermill": {
          "duration": 0.041266,
          "end_time": "2022-02-15T23:56:51.940173",
          "exception": false,
          "start_time": "2022-02-15T23:56:51.898907",
          "status": "completed"
        },
        "tags": [],
        "trusted": true,
        "id": "943eb6a1",
        "outputId": "07883a57-aa5f-48ff-df19-ca9d5cf75c10"
      },
      "outputs": [
        {
          "name": "stdout",
          "text": "Setup complete.\n",
          "output_type": "stream"
        }
      ],
      "execution_count": null
    },
    {
      "id": "b5cc6e87",
      "cell_type": "markdown",
      "source": [
        "# Question 1\n",
        "\n",
        "You have seen how to convert a float to an integer with the `int` function.  Try this out yourself by running the code cell below."
      ],
      "metadata": {
        "papermill": {
          "duration": 0.024941,
          "end_time": "2022-02-15T23:56:51.990804",
          "exception": false,
          "start_time": "2022-02-15T23:56:51.965863",
          "status": "completed"
        },
        "tags": [],
        "id": "b5cc6e87"
      }
    },
    {
      "id": "1af73a8c",
      "cell_type": "code",
      "source": [
        "# Define a float\n",
        "y = 1.\n",
        "print(y)\n",
        "print(type(y))\n",
        "\n",
        "# Convert float to integer with the int function\n",
        "z = int(y)\n",
        "print(z)\n",
        "print(type(z))"
      ],
      "metadata": {
        "execution": {
          "iopub.status.busy": "2025-02-24T15:36:58.424756Z",
          "iopub.execute_input": "2025-02-24T15:36:58.42501Z",
          "iopub.status.idle": "2025-02-24T15:36:58.430166Z",
          "shell.execute_reply.started": "2025-02-24T15:36:58.424989Z",
          "shell.execute_reply": "2025-02-24T15:36:58.429426Z"
        },
        "papermill": {
          "duration": 0.036351,
          "end_time": "2022-02-15T23:56:52.050571",
          "exception": false,
          "start_time": "2022-02-15T23:56:52.01422",
          "status": "completed"
        },
        "tags": [],
        "trusted": true,
        "id": "1af73a8c",
        "outputId": "54bddf7c-5cd6-4079-c062-bcfbd83d3576"
      },
      "outputs": [
        {
          "name": "stdout",
          "text": "1.0\n<class 'float'>\n1\n<class 'int'>\n",
          "output_type": "stream"
        }
      ],
      "execution_count": null
    },
    {
      "id": "0a5b658a",
      "cell_type": "markdown",
      "source": [
        "In this case, the float you are using has no numbers after the decimal.  \n",
        "- But what happens when you try to convert a float with a fractional part to an integer?  \n",
        "- How does the outcome of the `int` function change for positive and negative numbers?\n",
        "\n",
        "Use the next code cell to investigate and answer these questions.  Feel free to add or remove any lines of code -- it is your workspace!"
      ],
      "metadata": {
        "papermill": {
          "duration": 0.015746,
          "end_time": "2022-02-15T23:56:52.082635",
          "exception": false,
          "start_time": "2022-02-15T23:56:52.066889",
          "status": "completed"
        },
        "tags": [],
        "id": "0a5b658a"
      }
    },
    {
      "id": "b2a37796",
      "cell_type": "code",
      "source": [
        "# Uncomment and run this code to get started!\n",
        "print(int(1.2321))\n",
        "print(int(1.747))\n",
        "print(int(-3.94535))\n",
        "print(int(-2.19774))"
      ],
      "metadata": {
        "execution": {
          "iopub.status.busy": "2025-02-24T15:38:05.5013Z",
          "iopub.execute_input": "2025-02-24T15:38:05.501646Z",
          "iopub.status.idle": "2025-02-24T15:38:05.505788Z",
          "shell.execute_reply.started": "2025-02-24T15:38:05.501622Z",
          "shell.execute_reply": "2025-02-24T15:38:05.504912Z"
        },
        "papermill": {
          "duration": 0.023189,
          "end_time": "2022-02-15T23:56:52.121169",
          "exception": false,
          "start_time": "2022-02-15T23:56:52.09798",
          "status": "completed"
        },
        "tags": [],
        "trusted": true,
        "id": "b2a37796",
        "outputId": "7fefad82-0bd4-41f0-b093-3f80edd34592"
      },
      "outputs": [
        {
          "name": "stdout",
          "text": "1\n1\n-3\n-2\n",
          "output_type": "stream"
        }
      ],
      "execution_count": null
    },
    {
      "id": "f666b450",
      "cell_type": "markdown",
      "source": [
        "Once you have an answer, run the code cell below to see the solution.  Viewing the solution will give you credit for answering the problem."
      ],
      "metadata": {
        "papermill": {
          "duration": 0.015044,
          "end_time": "2022-02-15T23:56:52.153268",
          "exception": false,
          "start_time": "2022-02-15T23:56:52.138224",
          "status": "completed"
        },
        "tags": [],
        "id": "f666b450"
      }
    },
    {
      "id": "265d8202",
      "cell_type": "code",
      "source": [
        "# Check your answer (Run this code cell to receive credit!)\n",
        "q1.check()"
      ],
      "metadata": {
        "execution": {
          "iopub.status.busy": "2025-02-24T15:38:20.938475Z",
          "iopub.execute_input": "2025-02-24T15:38:20.938764Z",
          "iopub.status.idle": "2025-02-24T15:38:20.945557Z",
          "shell.execute_reply.started": "2025-02-24T15:38:20.938742Z",
          "shell.execute_reply": "2025-02-24T15:38:20.944756Z"
        },
        "papermill": {
          "duration": 0.022309,
          "end_time": "2022-02-15T23:56:52.19068",
          "exception": false,
          "start_time": "2022-02-15T23:56:52.168371",
          "status": "completed"
        },
        "tags": [],
        "trusted": true,
        "id": "265d8202",
        "outputId": "533bf0a2-5caa-40c1-e8b7-8885bf41e836"
      },
      "outputs": [
        {
          "output_type": "display_data",
          "data": {
            "text/plain": "<IPython.core.display.Javascript object>",
            "application/javascript": "parent.postMessage({\"jupyterEvent\": \"custom.exercise_interaction\", \"data\": {\"outcomeType\": 1, \"valueTowardsCompletion\": 0.2, \"interactionType\": 1, \"questionType\": 4, \"questionId\": \"1_FloatToInt\", \"learnToolsVersion\": \"0.3.4\", \"failureMessage\": \"\", \"exceptionClass\": \"\", \"trace\": \"\"}}, \"*\")"
          },
          "metadata": {}
        },
        {
          "output_type": "display_data",
          "data": {
            "text/plain": "Correct: \n\nNegative floats are always rounded UP to the closest integer (for instance, both -1.1 and -1.9 are rounded up to -1). Positive floats are always rounded DOWN to the closest integer (for instance, 2.1 and 2.9 are rounded down to 2).",
            "text/markdown": "<span style=\"color:#33cc33\">Correct:</span> \n\nNegative floats are always rounded UP to the closest integer (for instance, both -1.1 and -1.9 are rounded up to -1). Positive floats are always rounded DOWN to the closest integer (for instance, 2.1 and 2.9 are rounded down to 2)."
          },
          "metadata": {}
        }
      ],
      "execution_count": null
    },
    {
      "id": "91082e7e",
      "cell_type": "markdown",
      "source": [
        "# Question 2\n",
        "\n",
        "In the tutorial, you learned about booleans (which can take a value of `True` or `False`), in addition to integers, floats, and strings.  For this question, your goal is to determine what happens when you multiply a boolean by any of these data types.  Specifically,\n",
        "- What happens when you multiply an integer or float by `True`?  What happens when you multiply them by `False`?  How does the answer change if the numbers are positive or negative?\n",
        "- What happens when you multiply a string by `True`?  By `False`?\n",
        "\n",
        "Use the next code cell for your investigation."
      ],
      "metadata": {
        "papermill": {
          "duration": 0.015624,
          "end_time": "2022-02-15T23:56:52.222102",
          "exception": false,
          "start_time": "2022-02-15T23:56:52.206478",
          "status": "completed"
        },
        "tags": [],
        "id": "91082e7e"
      }
    },
    {
      "id": "5fe84659",
      "cell_type": "code",
      "source": [
        "# Uncomment and run this code to get started!\n",
        "print(3 * True)\n",
        "print(-3.1 * True)\n",
        "print(type(\"abc\" * False))\n",
        "print(len(\"abc\" * False))"
      ],
      "metadata": {
        "execution": {
          "iopub.status.busy": "2025-02-24T15:39:18.506794Z",
          "iopub.execute_input": "2025-02-24T15:39:18.507052Z",
          "iopub.status.idle": "2025-02-24T15:39:18.512273Z",
          "shell.execute_reply.started": "2025-02-24T15:39:18.50703Z",
          "shell.execute_reply": "2025-02-24T15:39:18.511318Z"
        },
        "papermill": {
          "duration": 0.026529,
          "end_time": "2022-02-15T23:56:52.26436",
          "exception": false,
          "start_time": "2022-02-15T23:56:52.237831",
          "status": "completed"
        },
        "tags": [],
        "trusted": true,
        "id": "5fe84659",
        "outputId": "f1b6d8ae-34fc-4476-efcc-ccf50e5071d5"
      },
      "outputs": [
        {
          "name": "stdout",
          "text": "3\n-3.1\n<class 'str'>\n0\n",
          "output_type": "stream"
        }
      ],
      "execution_count": null
    },
    {
      "id": "09cae65a",
      "cell_type": "markdown",
      "source": [
        "Once you have an answer, run the code cell below to see the solution.  Viewing the solution will give you credit for answering the problem."
      ],
      "metadata": {
        "papermill": {
          "duration": 0.024547,
          "end_time": "2022-02-15T23:56:52.314813",
          "exception": false,
          "start_time": "2022-02-15T23:56:52.290266",
          "status": "completed"
        },
        "tags": [],
        "id": "09cae65a"
      }
    },
    {
      "id": "3988194a",
      "cell_type": "code",
      "source": [
        "# Check your answer (Run this code cell to receive credit!)\n",
        "q2.check()"
      ],
      "metadata": {
        "execution": {
          "iopub.status.busy": "2025-02-24T15:39:38.356976Z",
          "iopub.execute_input": "2025-02-24T15:39:38.35726Z",
          "iopub.status.idle": "2025-02-24T15:39:38.363408Z",
          "shell.execute_reply.started": "2025-02-24T15:39:38.35724Z",
          "shell.execute_reply": "2025-02-24T15:39:38.362677Z"
        },
        "papermill": {
          "duration": 0.033338,
          "end_time": "2022-02-15T23:56:52.372842",
          "exception": false,
          "start_time": "2022-02-15T23:56:52.339504",
          "status": "completed"
        },
        "tags": [],
        "trusted": true,
        "id": "3988194a",
        "outputId": "ff578287-1817-4c4a-a283-5a63e0d219f2"
      },
      "outputs": [
        {
          "output_type": "display_data",
          "data": {
            "text/plain": "<IPython.core.display.Javascript object>",
            "application/javascript": "parent.postMessage({\"jupyterEvent\": \"custom.exercise_interaction\", \"data\": {\"outcomeType\": 1, \"valueTowardsCompletion\": 0.2, \"interactionType\": 1, \"questionType\": 4, \"questionId\": \"2_MultiplyBooleans\", \"learnToolsVersion\": \"0.3.4\", \"failureMessage\": \"\", \"exceptionClass\": \"\", \"trace\": \"\"}}, \"*\")"
          },
          "metadata": {}
        },
        {
          "output_type": "display_data",
          "data": {
            "text/plain": "Correct: \n\nWhen you multiple an integer or float by a boolean with value `True`, it just returns that same integer or float (and is equivalent to multiplying by 1).  If you multiply an integer or float by a boolean with value `False`, it always returns 0.  This is true for both positive and negative numbers.  If you multiply a string by a boolean with value `True`, it just returns that same string.  And if you multiply a string by a boolean with value `False`, it returns an empty string (or a string with length zero).",
            "text/markdown": "<span style=\"color:#33cc33\">Correct:</span> \n\nWhen you multiple an integer or float by a boolean with value `True`, it just returns that same integer or float (and is equivalent to multiplying by 1).  If you multiply an integer or float by a boolean with value `False`, it always returns 0.  This is true for both positive and negative numbers.  If you multiply a string by a boolean with value `True`, it just returns that same string.  And if you multiply a string by a boolean with value `False`, it returns an empty string (or a string with length zero)."
          },
          "metadata": {}
        }
      ],
      "execution_count": null
    },
    {
      "id": "c4308284",
      "cell_type": "markdown",
      "source": [
        "# Question 3\n",
        "\n",
        "In this question, you will build off your work from the previous exercise to write a function that estimates the value of a house.\n",
        "\n",
        "Use the next code cell to create a function `get_expected_cost` that takes as input three variables:\n",
        "- `beds` - number of bedrooms (data type float)\n",
        "- `baths` - number of bathrooms (data type float)\n",
        "- `has_basement` - whether or not the house has a basement (data type boolean)\n",
        "\n",
        "It should return the expected cost of a house with those characteristics. Assume that:\n",
        "- the expected cost for a house with 0 bedrooms and 0 bathrooms, and no basement is 80000,\n",
        "- each bedroom adds 30000 to the expected cost,\n",
        "- each bathroom adds 10000 to the expected cost, and\n",
        "- a basement adds 40000 to the expected cost.\n",
        "\n",
        "For instance,\n",
        "- a house with 1 bedroom, 1 bathroom, and no basement has an expected cost of 80000 + 30000 + 10000 = 120000.  This value will be calculated with `get_expected_cost(1, 1, False)`.\n",
        "- a house with 2 bedrooms, 1 bathroom, and a basement has an expected cost of 80000 + 2*30000 + 10000 + 40000 = 190000.  This value will be calculated with `get_expected_cost(2, 1, True)`.\n",
        "\n",
        "Remember you can always get a hint by uncommenting `q3.hint()` in the code cell following the next!"
      ],
      "metadata": {
        "papermill": {
          "duration": 0.024657,
          "end_time": "2022-02-15T23:56:52.423541",
          "exception": false,
          "start_time": "2022-02-15T23:56:52.398884",
          "status": "completed"
        },
        "tags": [],
        "id": "c4308284"
      }
    },
    {
      "id": "abab04ce",
      "cell_type": "code",
      "source": [
        "# TODO: Complete the function\n",
        "def get_expected_cost(beds, baths, has_basement):\n",
        "    base_cost=80000\n",
        "    value =80000+(30000*beds)+(10000*baths)+(40000*has_basement)\n",
        "    return value\n",
        "\n",
        "# Check your answer\n",
        "q3.check()"
      ],
      "metadata": {
        "execution": {
          "iopub.status.busy": "2025-02-24T15:48:42.98515Z",
          "iopub.execute_input": "2025-02-24T15:48:42.985398Z",
          "iopub.status.idle": "2025-02-24T15:48:42.991771Z",
          "shell.execute_reply.started": "2025-02-24T15:48:42.985378Z",
          "shell.execute_reply": "2025-02-24T15:48:42.990967Z"
        },
        "papermill": {
          "duration": 0.033124,
          "end_time": "2022-02-15T23:56:52.48129",
          "exception": false,
          "start_time": "2022-02-15T23:56:52.448166",
          "status": "completed"
        },
        "tags": [],
        "trusted": true,
        "id": "abab04ce",
        "outputId": "ee98a6f7-5900-4df4-df19-60f016001d17"
      },
      "outputs": [
        {
          "output_type": "display_data",
          "data": {
            "text/plain": "<IPython.core.display.Javascript object>",
            "application/javascript": "parent.postMessage({\"jupyterEvent\": \"custom.exercise_interaction\", \"data\": {\"outcomeType\": 1, \"valueTowardsCompletion\": 0.2, \"interactionType\": 1, \"questionType\": 2, \"questionId\": \"3_EstimateHouseValueBool\", \"learnToolsVersion\": \"0.3.4\", \"failureMessage\": \"\", \"exceptionClass\": \"\", \"trace\": \"\"}}, \"*\")"
          },
          "metadata": {}
        },
        {
          "output_type": "display_data",
          "data": {
            "text/plain": "Correct",
            "text/markdown": "<span style=\"color:#33cc33\">Correct</span>"
          },
          "metadata": {}
        }
      ],
      "execution_count": null
    },
    {
      "id": "516a8afd",
      "cell_type": "code",
      "source": [
        "# Uncomment to see a hint\n",
        "#q3.hint()\n",
        "\n",
        "# Uncomment to view the solution\n",
        "#q3.solution()"
      ],
      "metadata": {
        "execution": {
          "iopub.status.busy": "2025-02-24T15:48:16.21467Z",
          "iopub.execute_input": "2025-02-24T15:48:16.21493Z",
          "iopub.status.idle": "2025-02-24T15:48:16.218157Z",
          "shell.execute_reply.started": "2025-02-24T15:48:16.214907Z",
          "shell.execute_reply": "2025-02-24T15:48:16.217083Z"
        },
        "papermill": {
          "duration": 0.032803,
          "end_time": "2022-02-15T23:56:52.53896",
          "exception": false,
          "start_time": "2022-02-15T23:56:52.506157",
          "status": "completed"
        },
        "tags": [],
        "trusted": true,
        "id": "516a8afd"
      },
      "outputs": [],
      "execution_count": null
    },
    {
      "id": "714cea65",
      "cell_type": "markdown",
      "source": [
        "# Question 4\n",
        "\n",
        "We'll continue our study of boolean arithmetic.  For this question, your task is to provide a description of what happpens when you add booleans.\n",
        "\n",
        "Use the next code cell for your investigation.  Feel free to add or remove any lines of code - use it as your workspace!"
      ],
      "metadata": {
        "papermill": {
          "duration": 0.02506,
          "end_time": "2022-02-15T23:56:52.588859",
          "exception": false,
          "start_time": "2022-02-15T23:56:52.563799",
          "status": "completed"
        },
        "tags": [],
        "id": "714cea65"
      }
    },
    {
      "id": "4f78a6b2",
      "cell_type": "code",
      "source": [
        "print(False + False)\n",
        "print(True + False)\n",
        "print(False + True)\n",
        "print(True + True)\n",
        "print(False + True + True + True)"
      ],
      "metadata": {
        "execution": {
          "iopub.status.busy": "2025-02-24T15:50:00.27971Z",
          "iopub.execute_input": "2025-02-24T15:50:00.279995Z",
          "iopub.status.idle": "2025-02-24T15:50:00.28523Z",
          "shell.execute_reply.started": "2025-02-24T15:50:00.279974Z",
          "shell.execute_reply": "2025-02-24T15:50:00.284308Z"
        },
        "papermill": {
          "duration": 0.034215,
          "end_time": "2022-02-15T23:56:52.649292",
          "exception": false,
          "start_time": "2022-02-15T23:56:52.615077",
          "status": "completed"
        },
        "tags": [],
        "trusted": true,
        "id": "4f78a6b2",
        "outputId": "e07db319-1072-4487-8169-95d3dc0e84da"
      },
      "outputs": [
        {
          "name": "stdout",
          "text": "0\n1\n1\n2\n3\n",
          "output_type": "stream"
        }
      ],
      "execution_count": null
    },
    {
      "id": "158c2b74",
      "cell_type": "markdown",
      "source": [
        "Once you have an answer, run the code cell below to see the solution.  Viewing the solution will give you credit for answering the problem."
      ],
      "metadata": {
        "papermill": {
          "duration": 0.025079,
          "end_time": "2022-02-15T23:56:52.700169",
          "exception": false,
          "start_time": "2022-02-15T23:56:52.67509",
          "status": "completed"
        },
        "tags": [],
        "id": "158c2b74"
      }
    },
    {
      "id": "e7a74b7a",
      "cell_type": "code",
      "source": [
        "# Check your answer (Run this code cell to receive credit!)\n",
        "q4.check()"
      ],
      "metadata": {
        "execution": {
          "iopub.status.busy": "2025-02-24T15:50:23.666543Z",
          "iopub.execute_input": "2025-02-24T15:50:23.666855Z",
          "iopub.status.idle": "2025-02-24T15:50:23.672841Z",
          "shell.execute_reply.started": "2025-02-24T15:50:23.666828Z",
          "shell.execute_reply": "2025-02-24T15:50:23.671941Z"
        },
        "papermill": {
          "duration": 0.031532,
          "end_time": "2022-02-15T23:56:52.761705",
          "exception": false,
          "start_time": "2022-02-15T23:56:52.730173",
          "status": "completed"
        },
        "tags": [],
        "trusted": true,
        "id": "e7a74b7a",
        "outputId": "29e2d589-1580-4a13-a297-bb9095b6ec6d"
      },
      "outputs": [
        {
          "output_type": "display_data",
          "data": {
            "text/plain": "<IPython.core.display.Javascript object>",
            "application/javascript": "parent.postMessage({\"jupyterEvent\": \"custom.exercise_interaction\", \"data\": {\"outcomeType\": 1, \"valueTowardsCompletion\": 0.2, \"interactionType\": 1, \"questionType\": 4, \"questionId\": \"4_AddingBooleans\", \"learnToolsVersion\": \"0.3.4\", \"failureMessage\": \"\", \"exceptionClass\": \"\", \"trace\": \"\"}}, \"*\")"
          },
          "metadata": {}
        },
        {
          "output_type": "display_data",
          "data": {
            "text/plain": "Correct: \n\nWhen you add booleans, adding `False` is equivalent to adding 0, and adding `True` is equivalent to adding 1.",
            "text/markdown": "<span style=\"color:#33cc33\">Correct:</span> \n\nWhen you add booleans, adding `False` is equivalent to adding 0, and adding `True` is equivalent to adding 1."
          },
          "metadata": {}
        }
      ],
      "execution_count": null
    },
    {
      "id": "e989a409",
      "cell_type": "markdown",
      "source": [
        "# 🌶️ Question 5\n",
        "\n",
        "You own an online shop where you sell rings with custom engravings.  You offer both gold plated and solid gold rings.\n",
        "- Gold plated rings have a base cost of \\\\$50, and you charge \\\\$7 per engraved unit.  \n",
        "- Solid gold rings have a base cost of \\\\$100, and you charge \\\\$10 per engraved unit.\n",
        "- Spaces and punctuation are counted as engraved units.\n",
        "\n",
        "Write a function `cost_of_project()` that takes two arguments:\n",
        "- `engraving` - a Python string with the text of the engraving\n",
        "- `solid_gold` - a Boolean that indicates whether the ring is solid gold\n",
        "\n",
        "It should return the cost of the project.  This question should be fairly challenging, and you may need a hint."
      ],
      "metadata": {
        "papermill": {
          "duration": 0.024396,
          "end_time": "2022-02-15T23:56:52.81114",
          "exception": false,
          "start_time": "2022-02-15T23:56:52.786744",
          "status": "completed"
        },
        "tags": [],
        "id": "e989a409"
      }
    },
    {
      "id": "64c97830",
      "cell_type": "code",
      "source": [
        "def cost_of_project(engraving, solid_gold):\n",
        "    cost = solid_gold*(100+10*len(engraving))+(not solid_gold)*(50+7*len(engraving))\n",
        "    return cost\n",
        "\n",
        "# Check your answer\n",
        "q5.check()"
      ],
      "metadata": {
        "execution": {
          "iopub.status.busy": "2025-02-24T18:25:19.614857Z",
          "iopub.execute_input": "2025-02-24T18:25:19.615224Z",
          "iopub.status.idle": "2025-02-24T18:25:19.624332Z",
          "shell.execute_reply.started": "2025-02-24T18:25:19.615197Z",
          "shell.execute_reply": "2025-02-24T18:25:19.62312Z"
        },
        "papermill": {
          "duration": 0.034931,
          "end_time": "2022-02-15T23:56:52.871015",
          "exception": false,
          "start_time": "2022-02-15T23:56:52.836084",
          "status": "completed"
        },
        "tags": [],
        "trusted": true,
        "id": "64c97830",
        "outputId": "7d15bcfa-743e-42d1-be0e-95687b8bc3c5"
      },
      "outputs": [
        {
          "output_type": "display_data",
          "data": {
            "text/plain": "<IPython.core.display.Javascript object>",
            "application/javascript": "parent.postMessage({\"jupyterEvent\": \"custom.exercise_interaction\", \"data\": {\"outcomeType\": 1, \"valueTowardsCompletion\": 0.2, \"interactionType\": 1, \"questionType\": 2, \"questionId\": \"5_CustomEngravings\", \"learnToolsVersion\": \"0.3.4\", \"failureMessage\": \"\", \"exceptionClass\": \"\", \"trace\": \"\"}}, \"*\")"
          },
          "metadata": {}
        },
        {
          "output_type": "display_data",
          "data": {
            "text/plain": "Correct",
            "text/markdown": "<span style=\"color:#33cc33\">Correct</span>"
          },
          "metadata": {}
        }
      ],
      "execution_count": null
    },
    {
      "id": "d2d50b92",
      "cell_type": "code",
      "source": [
        "# Uncomment to see a hint\n",
        "#q5.hint()\n",
        "\n",
        "# Uncomment to view the solution\n",
        "q5.solution()"
      ],
      "metadata": {
        "execution": {
          "iopub.status.busy": "2025-02-24T18:24:47.676477Z",
          "iopub.execute_input": "2025-02-24T18:24:47.676864Z",
          "iopub.status.idle": "2025-02-24T18:24:47.684153Z",
          "shell.execute_reply.started": "2025-02-24T18:24:47.676831Z",
          "shell.execute_reply": "2025-02-24T18:24:47.683106Z"
        },
        "papermill": {
          "duration": 0.032387,
          "end_time": "2022-02-15T23:56:52.929176",
          "exception": false,
          "start_time": "2022-02-15T23:56:52.896789",
          "status": "completed"
        },
        "tags": [],
        "trusted": true,
        "id": "d2d50b92",
        "outputId": "faa18a43-9d24-402c-8f96-c5a6a2b1898b"
      },
      "outputs": [
        {
          "output_type": "display_data",
          "data": {
            "text/plain": "<IPython.core.display.Javascript object>",
            "application/javascript": "parent.postMessage({\"jupyterEvent\": \"custom.exercise_interaction\", \"data\": {\"interactionType\": 3, \"questionType\": 2, \"questionId\": \"5_CustomEngravings\", \"learnToolsVersion\": \"0.3.4\", \"valueTowardsCompletion\": 0.0, \"failureMessage\": \"\", \"exceptionClass\": \"\", \"trace\": \"\", \"outcomeType\": 4}}, \"*\")"
          },
          "metadata": {}
        },
        {
          "output_type": "display_data",
          "data": {
            "text/plain": "Solution: \n```python\ndef cost_of_project(engraving, solid_gold):\n    cost = solid_gold * (100 + 10 * len(engraving)) + (not solid_gold) * (50 + 7 * len(engraving))\n    return cost\n\n```",
            "text/markdown": "<span style=\"color:#33cc99\">Solution:</span> \n```python\ndef cost_of_project(engraving, solid_gold):\n    cost = solid_gold * (100 + 10 * len(engraving)) + (not solid_gold) * (50 + 7 * len(engraving))\n    return cost\n\n```"
          },
          "metadata": {}
        }
      ],
      "execution_count": null
    },
    {
      "id": "f8f238db",
      "cell_type": "markdown",
      "source": [
        "Run the next code cell to calculate the cost of engraving `Charlie+Denver` on a solid gold ring."
      ],
      "metadata": {
        "papermill": {
          "duration": 0.025442,
          "end_time": "2022-02-15T23:56:52.981178",
          "exception": false,
          "start_time": "2022-02-15T23:56:52.955736",
          "status": "completed"
        },
        "tags": [],
        "id": "f8f238db"
      }
    },
    {
      "id": "809d5f2b",
      "cell_type": "code",
      "source": [
        "project_one = cost_of_project(\"Charlie+Denver\", True)\n",
        "print(project_one)"
      ],
      "metadata": {
        "execution": {
          "iopub.status.busy": "2025-02-24T18:25:32.551875Z",
          "iopub.execute_input": "2025-02-24T18:25:32.552776Z",
          "iopub.status.idle": "2025-02-24T18:25:32.558915Z",
          "shell.execute_reply.started": "2025-02-24T18:25:32.552723Z",
          "shell.execute_reply": "2025-02-24T18:25:32.557602Z"
        },
        "papermill": {
          "duration": 0.033363,
          "end_time": "2022-02-15T23:56:53.041309",
          "exception": false,
          "start_time": "2022-02-15T23:56:53.007946",
          "status": "completed"
        },
        "tags": [],
        "trusted": true,
        "id": "809d5f2b",
        "outputId": "82689ace-be4d-4f06-bfe0-2b665a04c0ec"
      },
      "outputs": [
        {
          "name": "stdout",
          "text": "240\n",
          "output_type": "stream"
        }
      ],
      "execution_count": null
    },
    {
      "id": "1792deb6",
      "cell_type": "markdown",
      "source": [
        "Use the next code cell to calculate the cost of engraving `08/10/2000` on a gold plated ring."
      ],
      "metadata": {
        "papermill": {
          "duration": 0.025504,
          "end_time": "2022-02-15T23:56:53.093394",
          "exception": false,
          "start_time": "2022-02-15T23:56:53.06789",
          "status": "completed"
        },
        "tags": [],
        "id": "1792deb6"
      }
    },
    {
      "id": "6dc1e58b",
      "cell_type": "code",
      "source": [
        "project_two = cost_of_project(\"08/10/2000\", False)\n",
        "print(project_two)"
      ],
      "metadata": {
        "execution": {
          "iopub.status.busy": "2025-02-24T18:25:41.144472Z",
          "iopub.execute_input": "2025-02-24T18:25:41.144828Z",
          "iopub.status.idle": "2025-02-24T18:25:41.150905Z",
          "shell.execute_reply.started": "2025-02-24T18:25:41.144803Z",
          "shell.execute_reply": "2025-02-24T18:25:41.149525Z"
        },
        "papermill": {
          "duration": 0.03374,
          "end_time": "2022-02-15T23:56:53.154559",
          "exception": false,
          "start_time": "2022-02-15T23:56:53.120819",
          "status": "completed"
        },
        "tags": [],
        "trusted": true,
        "id": "6dc1e58b",
        "outputId": "a6fb42d7-bf64-4aab-9041-38fab52139cc"
      },
      "outputs": [
        {
          "name": "stdout",
          "text": "120\n",
          "output_type": "stream"
        }
      ],
      "execution_count": null
    },
    {
      "id": "24164f77",
      "cell_type": "markdown",
      "source": [
        "# Keep going\n",
        "\n",
        "Continue to the next lesson to **[learn about conditions and conditional statements](https://www.kaggle.com/alexisbcook/conditions-and-conditional-statements)**."
      ],
      "metadata": {
        "papermill": {
          "duration": 0.016828,
          "end_time": "2022-02-15T23:56:53.189102",
          "exception": false,
          "start_time": "2022-02-15T23:56:53.172274",
          "status": "completed"
        },
        "tags": [],
        "id": "24164f77"
      }
    },
    {
      "id": "3d9aabc4",
      "cell_type": "markdown",
      "source": [
        "---\n",
        "\n",
        "\n",
        "\n",
        "\n",
        "*Have questions or comments? Visit the [course discussion forum](https://www.kaggle.com/learn/intro-to-programming/discussion) to chat with other learners.*"
      ],
      "metadata": {
        "id": "3d9aabc4"
      }
    }
  ]
}