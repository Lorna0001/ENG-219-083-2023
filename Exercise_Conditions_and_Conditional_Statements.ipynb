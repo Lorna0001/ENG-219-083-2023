{
  "metadata": {
    "kernelspec": {
      "language": "python",
      "display_name": "Python 3",
      "name": "python3"
    },
    "language_info": {
      "name": "python",
      "version": "3.10.12",
      "mimetype": "text/x-python",
      "codemirror_mode": {
        "name": "ipython",
        "version": 3
      },
      "pygments_lexer": "ipython3",
      "nbconvert_exporter": "python",
      "file_extension": ".py"
    },
    "kaggle": {
      "accelerator": "none",
      "dataSources": [],
      "isInternetEnabled": true,
      "language": "python",
      "sourceType": "notebook",
      "isGpuEnabled": false
    },
    "colab": {
      "name": "Exercise: Conditions and Conditional Statements",
      "provenance": [],
      "include_colab_link": true
    }
  },
  "nbformat_minor": 0,
  "nbformat": 4,
  "cells": [
    {
      "cell_type": "markdown",
      "metadata": {
        "id": "view-in-github",
        "colab_type": "text"
      },
      "source": [
        "<a href=\"https://colab.research.google.com/github/Lorna0001/ENG-219-083-2023/blob/Python-Conditions-and-conditional-statements/Exercise_Conditions_and_Conditional_Statements.ipynb\" target=\"_parent\"><img src=\"https://colab.research.google.com/assets/colab-badge.svg\" alt=\"Open In Colab\"/></a>"
      ]
    },
    {
      "cell_type": "markdown",
      "source": [
        "**This notebook is an exercise in the [Intro to Programming](https://www.kaggle.com/learn/intro-to-programming) course.  You can reference the tutorial at [this link](https://www.kaggle.com/alexisbcook/conditions-and-conditional-statements).**\n",
        "\n",
        "---\n"
      ],
      "metadata": {
        "id": "3Bapi_GPhXc4"
      }
    },
    {
      "cell_type": "markdown",
      "source": [
        "In the tutorial, you learned about conditions and conditional statements. In this exercise, you will use what you learned to answer several questions.\n",
        "\n",
        "# Set up the notebook\n",
        "\n",
        "Run the next code cell without changes to set up the notebook."
      ],
      "metadata": {
        "id": "zdSJloJghXc9"
      }
    },
    {
      "cell_type": "code",
      "source": [
        "from learntools.core import binder\n",
        "binder.bind(globals())\n",
        "from learntools.intro_to_programming.ex4 import *\n",
        "print('Setup complete.')"
      ],
      "metadata": {
        "execution": {
          "iopub.status.busy": "2025-02-24T18:30:11.207911Z",
          "iopub.execute_input": "2025-02-24T18:30:11.20855Z",
          "iopub.status.idle": "2025-02-24T18:30:12.083396Z",
          "shell.execute_reply.started": "2025-02-24T18:30:11.208499Z",
          "shell.execute_reply": "2025-02-24T18:30:12.081848Z"
        },
        "trusted": true,
        "id": "9d5-hyJHhXc-",
        "outputId": "d1f4f07c-5831-41a2-ed5e-f2052ab3806f"
      },
      "outputs": [
        {
          "name": "stdout",
          "text": "Setup complete.\n",
          "output_type": "stream"
        }
      ],
      "execution_count": null
    },
    {
      "cell_type": "markdown",
      "source": [
        "# Question 1\n",
        "\n",
        "You work at a college admissions office.  When inspecting a dataset of college applicants, you notice that some students have represented their grades with letters (`\"A\"`, `\"B\"`, `\"C\"`, `\"D\"`, `\"F\"`), whereas others have represented their grades with a number between 0 and 100.\n",
        "\n",
        "You realize that for consistency, all of the grades should be formatted in the same way, and you decide to format them all as letters.  For the conversion, you decide to assign:\n",
        "- `\"A\"` - any grade 90-100, inclusive\n",
        "- `\"B\"` - any grade 80-89, inclusive\n",
        "- `\"C\"` - any grade 70-79, inclusive\n",
        "- `\"D\"` - any grade 60-69, inclusive\n",
        "- `\"F\"` - any grade <60\n",
        "\n",
        "Write a function `get_grade()` that takes as input:\n",
        "- `score` - an integer 0-100 corresponding to a numerical grade\n",
        "\n",
        "It should return a Python string with the letter grade that it corresponds to.  For instance,\n",
        "- A score of 85 corresponds to a B grade.  In other words, `get_grade(85)` should return `\"B\"`.\n",
        "- A score of 49 corresponds to an F grade.  In other words, `get_grade(49)` should return `\"F\"`.\n",
        "\n",
        "Make sure that when supplying the grade that is returned by the function, it is enclosed in quotes.  (For instance, if you want to return `\"A\"`, you should write `return \"A\"` and not `return A`.)"
      ],
      "metadata": {
        "id": "x-9KT7rbhXdA"
      }
    },
    {
      "cell_type": "code",
      "source": [
        "# TODO: Edit the function to return the correct grade for different scores\n",
        "def get_grade(score):\n",
        "    if score>=90:\n",
        "       grade = \"A\"\n",
        "    elif score>=80:\n",
        "       grade=\"B\"\n",
        "    elif score>=70:\n",
        "       grade=\"C\"\n",
        "    elif score>=60:\n",
        "       grade=\"D\"\n",
        "    else :\n",
        "       grade=\"F\"\n",
        "    return grade\n",
        "\n",
        "# Check your answer\n",
        "q1.check()"
      ],
      "metadata": {
        "trusted": true,
        "execution": {
          "iopub.status.busy": "2025-02-24T18:45:00.819089Z",
          "iopub.execute_input": "2025-02-24T18:45:00.819517Z",
          "iopub.status.idle": "2025-02-24T18:45:00.830109Z",
          "shell.execute_reply.started": "2025-02-24T18:45:00.819491Z",
          "shell.execute_reply": "2025-02-24T18:45:00.828616Z"
        },
        "id": "QV2XI8RkhXdB",
        "outputId": "20dd8c29-2daa-47b9-99c8-595d9103c6b6"
      },
      "outputs": [
        {
          "output_type": "display_data",
          "data": {
            "text/plain": "<IPython.core.display.Javascript object>",
            "application/javascript": "parent.postMessage({\"jupyterEvent\": \"custom.exercise_interaction\", \"data\": {\"outcomeType\": 1, \"valueTowardsCompletion\": 0.2, \"interactionType\": 1, \"questionType\": 2, \"questionId\": \"1_GetGrade\", \"learnToolsVersion\": \"0.3.4\", \"failureMessage\": \"\", \"exceptionClass\": \"\", \"trace\": \"\"}}, \"*\")"
          },
          "metadata": {}
        },
        {
          "output_type": "display_data",
          "data": {
            "text/plain": "Correct",
            "text/markdown": "<span style=\"color:#33cc33\">Correct</span>"
          },
          "metadata": {}
        }
      ],
      "execution_count": null
    },
    {
      "cell_type": "code",
      "source": [
        "# Uncomment to see a hint\n",
        "#q1.hint()\n",
        "\n",
        "# Uncomment to see the solution\n",
        "#q1.solution()"
      ],
      "metadata": {
        "trusted": true,
        "execution": {
          "iopub.status.busy": "2025-02-24T18:45:13.880203Z",
          "iopub.execute_input": "2025-02-24T18:45:13.880621Z",
          "iopub.status.idle": "2025-02-24T18:45:13.885186Z",
          "shell.execute_reply.started": "2025-02-24T18:45:13.88059Z",
          "shell.execute_reply": "2025-02-24T18:45:13.883971Z"
        },
        "id": "hmvftT30hXdB"
      },
      "outputs": [],
      "execution_count": null
    },
    {
      "cell_type": "markdown",
      "source": [
        "# Question 2\n",
        "\n",
        "In the exercise for the previous lesson, you wrote a function `cost_of_project()` that estimated the price of rings for an online shop that sells rings with custom engravings.  This function did not use conditional statements.  In this exercise, you will rewrite the function to use conditional statements.  Recall that the online shop has the following price structure:\n",
        "- Gold plated rings have a base cost of \\\\$50, and you charge \\\\$7 per engraved unit.  \n",
        "- Solid gold rings have a base cost of \\\\$100, and you charge \\\\$10 per engraved unit.\n",
        "- Spaces and punctuation are counted as engraved units.\n",
        "\n",
        "Your function `cost_of_project()` takes two arguments:\n",
        "- `engraving` - a Python string with the text of the engraving\n",
        "- `solid_gold` - a Boolean that indicates whether the ring is solid gold\n",
        "\n",
        "It should return the cost of the project.  \n",
        "\n",
        "The function has been partially completed for you, and you need to fill in the blanks to complete the function."
      ],
      "metadata": {
        "id": "ojF9YO5WhXdC"
      }
    },
    {
      "cell_type": "code",
      "source": [
        "def cost_of_project(engraving, solid_gold):\n",
        "    if solid_gold == True:\n",
        "        cost = 100+10*len(engraving)\n",
        "    else :\n",
        "        cost =50+7*len(engraving)\n",
        "    return cost\n",
        "\n",
        "# Check your answer\n",
        "q2.check()"
      ],
      "metadata": {
        "trusted": true,
        "execution": {
          "iopub.status.busy": "2025-02-24T18:53:50.327682Z",
          "iopub.execute_input": "2025-02-24T18:53:50.328056Z",
          "iopub.status.idle": "2025-02-24T18:53:50.336829Z",
          "shell.execute_reply.started": "2025-02-24T18:53:50.328022Z",
          "shell.execute_reply": "2025-02-24T18:53:50.335592Z"
        },
        "id": "nENapZTihXdC",
        "outputId": "cc5e9ec4-765a-49ee-dd6b-78ec88a3e720"
      },
      "outputs": [
        {
          "output_type": "display_data",
          "data": {
            "text/plain": "<IPython.core.display.Javascript object>",
            "application/javascript": "parent.postMessage({\"jupyterEvent\": \"custom.exercise_interaction\", \"data\": {\"outcomeType\": 1, \"valueTowardsCompletion\": 0.2, \"interactionType\": 1, \"questionType\": 2, \"questionId\": \"2_CostProjectPartDeux\", \"learnToolsVersion\": \"0.3.4\", \"failureMessage\": \"\", \"exceptionClass\": \"\", \"trace\": \"\"}}, \"*\")"
          },
          "metadata": {}
        },
        {
          "output_type": "display_data",
          "data": {
            "text/plain": "Correct",
            "text/markdown": "<span style=\"color:#33cc33\">Correct</span>"
          },
          "metadata": {}
        }
      ],
      "execution_count": null
    },
    {
      "cell_type": "code",
      "source": [
        "# Uncomment to see a hint\n",
        "#q2.hint()\n",
        "\n",
        "# Uncomment to see the solution\n",
        "#q2.solution()"
      ],
      "metadata": {
        "trusted": true,
        "execution": {
          "iopub.status.busy": "2025-02-24T18:54:00.304854Z",
          "iopub.execute_input": "2025-02-24T18:54:00.305314Z",
          "iopub.status.idle": "2025-02-24T18:54:00.310502Z",
          "shell.execute_reply.started": "2025-02-24T18:54:00.305284Z",
          "shell.execute_reply": "2025-02-24T18:54:00.308818Z"
        },
        "id": "r8LpajqYhXdD"
      },
      "outputs": [],
      "execution_count": null
    },
    {
      "cell_type": "markdown",
      "source": [
        "# Question 3\n",
        "\n",
        "You are a programmer at a water agency.  Recently, you have been tasked to write a function `get_water_bill()` that takes as input:\n",
        "- `num_gallons` = the number of gallons of water that a customer used that month.  (This will always be an integer with no decimal part.)\n",
        "\n",
        "It should output the water bill.  \n",
        "\n",
        "The water agency uses this pricing structure:\n",
        "<table style=\"width: 100%;\">\n",
        "<tbody>\n",
        "<tr><th><b>Tier</b></th><th><b>Amount in gallons</b></th><th><b>Price per 1000 gallons</b></th></tr>\n",
        "<tr>\n",
        "<td>Tier 1</td>\n",
        "<td>0 - 8,000</td>\n",
        "<td>\\$5</td>\n",
        "</tr>\n",
        "<tr>\n",
        "<td>Tier 2</td>\n",
        "<td>8,001 - 22,000</td>\n",
        "<td>\\$6</td>\n",
        "</tr>\n",
        "<tr>\n",
        "<td>Tier 3</td>\n",
        "<td>22,001 - 30,000</td>\n",
        "<td>\\$7</td>\n",
        "</tr>\n",
        "<tr>\n",
        "<td>Tier 4</td>\n",
        "<td>30,001+</td>\n",
        "<td>\\$10</td>\n",
        "</tr>\n",
        "</tbody>\n",
        "</table>\n",
        "\n",
        "For example:\n",
        "- Someone who uses 10,000 gallons of water in a month is placed in Tier 2, and needs to pay a water bill of \\\\$6 * 10 = \\\\$60.  In other words, `get_water_bill(10000)` should return `60.0`.\n",
        "- Someone who uses 25,000 gallons of water in a month is placed in Tier 3, and needs to pay a water bill of \\\\$7 * 25 = \\\\$175.  In other words, `get_water_bill(25000)` should return `175.0`.\n",
        "\n",
        "**Do not round your answer.**  So, your answer might return fractions of a penny."
      ],
      "metadata": {
        "id": "IPJjctbJhXdF"
      }
    },
    {
      "cell_type": "code",
      "source": [
        "# TODO: Edit the function to return the correct bill for different\n",
        "# values of num_gallons\n",
        "def get_water_bill(num_gallons):\n",
        "    if num_gallons<=8000:\n",
        "        bill=5*num_gallons/1000\n",
        "    elif num_gallons<=22000:\n",
        "        bill=6*num_gallons/1000\n",
        "    elif num_gallons<=30000:\n",
        "        bill=7*num_gallons/1000\n",
        "    else:\n",
        "        bill=10*num_gallons/1000\n",
        "    return bill\n",
        "\n",
        "# Check your answer\n",
        "q3.check()"
      ],
      "metadata": {
        "execution": {
          "iopub.status.busy": "2025-02-24T19:07:11.324478Z",
          "iopub.execute_input": "2025-02-24T19:07:11.324891Z",
          "iopub.status.idle": "2025-02-24T19:07:11.335754Z",
          "shell.execute_reply.started": "2025-02-24T19:07:11.324857Z",
          "shell.execute_reply": "2025-02-24T19:07:11.334326Z"
        },
        "trusted": true,
        "id": "hYgvhGamhXdG",
        "outputId": "b7d2d939-8590-4a5f-91e3-8e009e6f13c6"
      },
      "outputs": [
        {
          "output_type": "display_data",
          "data": {
            "text/plain": "<IPython.core.display.Javascript object>",
            "application/javascript": "parent.postMessage({\"jupyterEvent\": \"custom.exercise_interaction\", \"data\": {\"outcomeType\": 1, \"valueTowardsCompletion\": 0.2, \"interactionType\": 1, \"questionType\": 2, \"questionId\": \"3_GetWaterBill\", \"learnToolsVersion\": \"0.3.4\", \"failureMessage\": \"\", \"exceptionClass\": \"\", \"trace\": \"\"}}, \"*\")"
          },
          "metadata": {}
        },
        {
          "output_type": "display_data",
          "data": {
            "text/plain": "Correct",
            "text/markdown": "<span style=\"color:#33cc33\">Correct</span>"
          },
          "metadata": {}
        }
      ],
      "execution_count": null
    },
    {
      "cell_type": "code",
      "source": [
        "# Uncomment to see a hint\n",
        "#q3.hint()\n",
        "\n",
        "# Uncomment to see the solution\n",
        "#q3.solution()"
      ],
      "metadata": {
        "execution": {
          "iopub.status.busy": "2025-02-24T19:07:20.809103Z",
          "iopub.execute_input": "2025-02-24T19:07:20.809498Z",
          "iopub.status.idle": "2025-02-24T19:07:20.815378Z",
          "shell.execute_reply.started": "2025-02-24T19:07:20.809471Z",
          "shell.execute_reply": "2025-02-24T19:07:20.813515Z"
        },
        "trusted": true,
        "id": "4_Zl1tCxhXdH"
      },
      "outputs": [],
      "execution_count": null
    },
    {
      "cell_type": "markdown",
      "source": [
        "# Question 4\n",
        "\n",
        "You work for a company that provides data services.  For \\\\$100/month, your company provides 15 gigabytes (GB) of data.  Then, any additional data is billed at \\\\$0.10/MB (or \\\\$100/GB, since 1,000 MB are in 1 GB).\n",
        "\n",
        "Use the next code cell to write a function `get_phone_bill()` that takes as input:\n",
        "- `gb` = number of GB that the customer used in a month\n",
        "\n",
        "It should return the customer's total phone bill.\n",
        "\n",
        "For instance:\n",
        "- A customer who uses 10 GB of data in one month is billed only \\\\$100, since the usage stayed under 15 GB.  In other words, `get_phone_bill(10)` should return `100`.\n",
        "- A customer who uses 15.1 GB (or 15 GB + 100 MB) of data in one month has gone over by .1 GB, so they must pay \\\\$100 (cost of plan), plus \\\\$0.10 * 100 = \\\\$10, for a total bill of \\\\$110.  In other words, `get_phone_bill(15.1)` should return `110`.\n",
        "\n",
        "Do not round your answer."
      ],
      "metadata": {
        "id": "eQF-xSUVhXdH"
      }
    },
    {
      "cell_type": "code",
      "source": [
        "# TODO: Edit the function to return the correct bill for different\n",
        "# values of GB\n",
        "def get_phone_bill(gb):\n",
        "    if gb<=15:\n",
        "      bill = 100\n",
        "    else: bill=100+(gb-15)*100\n",
        "    return bill\n",
        "\n",
        "# Check your answer\n",
        "q4.check()"
      ],
      "metadata": {
        "execution": {
          "iopub.status.busy": "2025-02-24T19:14:49.639054Z",
          "iopub.execute_input": "2025-02-24T19:14:49.63946Z",
          "iopub.status.idle": "2025-02-24T19:14:49.648444Z",
          "shell.execute_reply.started": "2025-02-24T19:14:49.639434Z",
          "shell.execute_reply": "2025-02-24T19:14:49.647284Z"
        },
        "trusted": true,
        "id": "DFMUn7qShXdH",
        "outputId": "d3465657-7ab5-43ac-c63f-0bee77c5c892"
      },
      "outputs": [
        {
          "output_type": "display_data",
          "data": {
            "text/plain": "<IPython.core.display.Javascript object>",
            "application/javascript": "parent.postMessage({\"jupyterEvent\": \"custom.exercise_interaction\", \"data\": {\"outcomeType\": 1, \"valueTowardsCompletion\": 0.2, \"interactionType\": 1, \"questionType\": 2, \"questionId\": \"4_GetPhoneBill\", \"learnToolsVersion\": \"0.3.4\", \"failureMessage\": \"\", \"exceptionClass\": \"\", \"trace\": \"\"}}, \"*\")"
          },
          "metadata": {}
        },
        {
          "output_type": "display_data",
          "data": {
            "text/plain": "Correct",
            "text/markdown": "<span style=\"color:#33cc33\">Correct</span>"
          },
          "metadata": {}
        }
      ],
      "execution_count": null
    },
    {
      "cell_type": "code",
      "source": [
        "# Uncomment to see a hint\n",
        "#q4.hint()\n",
        "\n",
        "# Uncomment to see the solution\n",
        "#q4.solution()"
      ],
      "metadata": {
        "execution": {
          "iopub.status.busy": "2025-02-24T19:14:24.813441Z",
          "iopub.execute_input": "2025-02-24T19:14:24.813969Z",
          "iopub.status.idle": "2025-02-24T19:14:24.819778Z",
          "shell.execute_reply.started": "2025-02-24T19:14:24.813921Z",
          "shell.execute_reply": "2025-02-24T19:14:24.818083Z"
        },
        "trusted": true,
        "id": "tGIImowghXdI"
      },
      "outputs": [],
      "execution_count": null
    },
    {
      "cell_type": "markdown",
      "source": [
        "# 🌶️ Question 5\n",
        "\n",
        "In Mexico, foods and beverages that are high in saturated fat, trans fat, sugar, sodium, and/or calories appear with warning labels that are designed to help consumers make healthy food choices.\n",
        "\n",
        "For instance, the [box of cookies](https://world.openfoodfacts.org/product/7501000673209/florentinas-gamesa) in the image below appears with two labels (in the upper right corner):\n",
        "- EXCESO CALORÍAS (in English, EXCESS CALORIES)\n",
        "- EXCESO AZÚCARES (in English, EXCESS SUGAR)\n",
        "\n",
        "<center><img src=\"https://storage.googleapis.com/kaggle-media/learn/images/VXYKHnM.png\" alt=\"drawing\" width=\"500\"/></center>\n",
        "\n",
        "In this question, you'll work with a function `get_labels()` that takes the nutritional details about a food item and prints the needed warning labels.  This function takes several inputs:\n",
        "- `food_type` = one of `\"solid\"` or `\"liquid\"`\n",
        "- `serving_size` = size of one serving (if solid, in grams; if liquid, in milliliters)\n",
        "- `calories_per_serving` = calories in one serving\n",
        "- `saturated_fat_g` = grams of saturated fat in one serving\n",
        "- `trans_fat_g` = grams of trans fat in one serving\n",
        "- `sodium_mg` = mg of sodium in one serving\n",
        "- `sugars_g` = grams of sugar in one serving\n",
        "\n",
        "Note that some of the code here should feel unfamiliar to you, since we have not shared the details of how some of the functions like `excess_sugar()` or `excess_saturated_fat()` work.  But at a high level, these are functions that return a value of `True` if the food is deemed to have an excess of sugar or saturated fat, respectively.  These functions are used within the `get_labels()` function, and whenever there is an excess (of sugar or saturated fat, but also of trans fat, sodium, or calories), it prints the corresponding label."
      ],
      "metadata": {
        "id": "z7Df_4SihXdI"
      }
    },
    {
      "cell_type": "code",
      "source": [
        "# import functions needed to make get_labels work\n",
        "from learntools.intro_to_programming.ex4q5 import excess_sugar, excess_saturated_fat, excess_trans_fat, excess_sodium, excess_calories\n",
        "\n",
        "def get_labels(food_type, serving_size, calories_per_serving, saturated_fat_g, trans_fat_g, sodium_mg, sugars_g):\n",
        "    # Print messages based on findings\n",
        "    if excess_sugar(sugars_g, calories_per_serving) == True:\n",
        "        print(\"EXCESO AZÚCARES / EXCESS SUGAR\")\n",
        "    if excess_saturated_fat(saturated_fat_g, calories_per_serving) == True:\n",
        "        print(\"EXCESO GRASAS SATURADAS / EXCESS SATURATED FAT\")\n",
        "    if excess_trans_fat(trans_fat_g, calories_per_serving) == True:\n",
        "        print(\"EXCESO GRASAS TRANS / EXCESS TRANS FAT\")\n",
        "    if excess_sodium(calories_per_serving, sodium_mg) == True:\n",
        "        print(\"EXCESO SODIO / EXCESS SODIUM\")\n",
        "    if excess_calories(food_type, calories_per_serving, serving_size) == True:\n",
        "        print(\"EXCESO CALORÍAS / EXCESS CALORIES\")"
      ],
      "metadata": {
        "execution": {
          "iopub.status.busy": "2025-02-24T19:21:47.717852Z",
          "iopub.execute_input": "2025-02-24T19:21:47.718239Z",
          "iopub.status.idle": "2025-02-24T19:21:47.724888Z",
          "shell.execute_reply.started": "2025-02-24T19:21:47.718211Z",
          "shell.execute_reply": "2025-02-24T19:21:47.723509Z"
        },
        "trusted": true,
        "id": "j9JR3LD3hXdI"
      },
      "outputs": [],
      "execution_count": null
    },
    {
      "cell_type": "markdown",
      "source": [
        "The next code cell demonstrates how to use `get_labels()` to get the warning labels that the food item should contain.  We begin with [bologna](https://world.openfoodfacts.org/product/4099100179378/bologna).  Here is [an image](https://storage.googleapis.com/kaggle-media/learn/images/Cfcx72e.png) with all of the nutritional information.  Note that for this food,\n",
        "- `food_type = \"solid\"` (because bologna is a solid and not a liquid)\n",
        "- `serving_size = 32` (the serving size is 32 grams)\n",
        "- `calories_per_serving = 110` (there are 110 calories per serving)\n",
        "- `saturated_fat_g = 2.5` (there are 2.5 grams of saturated fat per serving)\n",
        "- `trans_fat_g = 0` (there are 0 grams of trans fat per serving)\n",
        "- `sodium_mg = 400` (there are 400 mg of sodium per serving)\n",
        "- `sugars_g = 1` (the nutrition facts say <1g, but we will round it up to 1 gram per serving to be safe)\n",
        "\n",
        "By supplying all of these values to the function, we can print the warning labels."
      ],
      "metadata": {
        "id": "CJwDgTWvhXdJ"
      }
    },
    {
      "cell_type": "code",
      "source": [
        "# bologna https://world.openfoodfacts.org/product/4099100179378/bologna\n",
        "get_labels(\"solid\", 32, 110, 2.5, 0, 400, 1)"
      ],
      "metadata": {
        "execution": {
          "iopub.status.busy": "2025-02-24T19:22:34.109438Z",
          "iopub.execute_input": "2025-02-24T19:22:34.109787Z",
          "iopub.status.idle": "2025-02-24T19:22:34.11637Z",
          "shell.execute_reply.started": "2025-02-24T19:22:34.109758Z",
          "shell.execute_reply": "2025-02-24T19:22:34.114839Z"
        },
        "trusted": true,
        "id": "ch4eXK4ohXdJ",
        "outputId": "3133628b-aedf-4e7d-8545-c2a51d0ca712"
      },
      "outputs": [
        {
          "name": "stdout",
          "text": "EXCESO GRASAS SATURADAS / EXCESS SATURATED FAT\nEXCESO SODIO / EXCESS SODIUM\nEXCESO CALORÍAS / EXCESS CALORIES\n",
          "output_type": "stream"
        }
      ],
      "execution_count": null
    },
    {
      "cell_type": "markdown",
      "source": [
        "This bologna has three labels, printed in the output above.\n",
        "\n",
        "For the rest of this question, you will use the same `get_labels()` function to determine the labels for more foods.  This question is designed to help you get practice with feeling comfortable with code that other people have written, and where you don't have time to review every single line of code before interacting with it.  For instance, when you take the [Intro to Machine Learning course](http://www.kaggle.com/learn/intro-to-machine-learning), you'll work with a Python package called \"scikit-learn\", which is a large collection of code that you'll learn how to run without reviewing all of the code in detail (as it would take too long, and you can trust that it was implemented correctly).\n",
        "\n",
        "In general, as you continue coding in Python, you will often be running code that other people have written.  This is common practice for advanced programmers.\n",
        "\n",
        "In the next code cell, fill in the values for [this cereal](https://world.openfoodfacts.org/product/7501008023624/zucaritas-kellogg-s).  Here is [an image](https://storage.googleapis.com/kaggle-media/learn/images/MUxzHVU.png) with all of the nutritional information.\n",
        "\n",
        "**Note**: running the line of code below as-is will return an error.  You have to fill in the nutritional values first."
      ],
      "metadata": {
        "id": "G0WCNIy2hXdJ"
      }
    },
    {
      "cell_type": "code",
      "source": [
        "# zucaritas cereal https://world.openfoodfacts.org/product/7501008023624/zucaritas-kellogg-s\n",
        "# TODO: Uncomment the line below, fill in the values, and run the function\n",
        "get_labels(\"solid\",40,150,0,0,150,16)"
      ],
      "metadata": {
        "execution": {
          "iopub.status.busy": "2025-02-24T19:38:17.05446Z",
          "iopub.execute_input": "2025-02-24T19:38:17.05479Z",
          "iopub.status.idle": "2025-02-24T19:38:17.061646Z",
          "shell.execute_reply.started": "2025-02-24T19:38:17.054765Z",
          "shell.execute_reply": "2025-02-24T19:38:17.060293Z"
        },
        "trusted": true,
        "id": "P43_WVk1hXdJ",
        "outputId": "9c6521c1-daa8-4bd0-a486-01aacef758a5"
      },
      "outputs": [
        {
          "name": "stdout",
          "text": "EXCESO AZÚCARES / EXCESS SUGAR\nEXCESO SODIO / EXCESS SODIUM\nEXCESO CALORÍAS / EXCESS CALORIES\n",
          "output_type": "stream"
        }
      ],
      "execution_count": null
    },
    {
      "cell_type": "markdown",
      "source": [
        "Next, try [these mozzarella sticks](https://world-es.openfoodfacts.org/producto/0062325540104/mozzarella-cheese-sticks).  Here is [an image](https://storage.googleapis.com/kaggle-media/learn/images/rcdB7VH.png) with all of the nutritional information."
      ],
      "metadata": {
        "id": "249n5Ge3hXdJ"
      }
    },
    {
      "cell_type": "code",
      "source": [
        "# mozzarella sticks https://world-es.openfoodfacts.org/producto/0062325540104/mozzarella-cheese-sticks\n",
        "# TODO: Uncomment the line below, fill in the values, and run the function\n",
        "get_labels(\"solid\",1,68,3,0.2,208,0)"
      ],
      "metadata": {
        "execution": {
          "iopub.status.busy": "2025-02-24T19:38:30.974767Z",
          "iopub.execute_input": "2025-02-24T19:38:30.975253Z",
          "iopub.status.idle": "2025-02-24T19:38:30.98244Z",
          "shell.execute_reply.started": "2025-02-24T19:38:30.975219Z",
          "shell.execute_reply": "2025-02-24T19:38:30.980769Z"
        },
        "trusted": true,
        "id": "Ij3NqGHqhXdK",
        "outputId": "2db689c3-6f9e-4ace-b787-b39d30a5b687"
      },
      "outputs": [
        {
          "name": "stdout",
          "text": "EXCESO GRASAS SATURADAS / EXCESS SATURATED FAT\nEXCESO GRASAS TRANS / EXCESS TRANS FAT\nEXCESO SODIO / EXCESS SODIUM\nEXCESO CALORÍAS / EXCESS CALORIES\n",
          "output_type": "stream"
        }
      ],
      "execution_count": null
    },
    {
      "cell_type": "markdown",
      "source": [
        "Feel free to skip to the end of the notebook now and run `q5.check()` to complete the exercise.  If you want to try more foods,\n",
        "- try [these cookies](https://world.openfoodfacts.org/product/0069700118545/biscuits-au-sucre-pretraches).  Here is [an image](https://storage.googleapis.com/kaggle-media/learn/images/2Bc271o.png) with all of the nutritional information.\n",
        "- try [this soda](https://world-es.openfoodfacts.org/producto/0078000113464/orange-soda-sunkist).  Here is [an image](https://storage.googleapis.com/kaggle-media/learn/images/RsBYa8E.png) with all of the nutritional information.\n",
        "\n",
        "Use the two code cells below for this."
      ],
      "metadata": {
        "id": "2O6_z-ZZhXdK"
      }
    },
    {
      "cell_type": "code",
      "source": [
        "# pillsbury cookies https://world.openfoodfacts.org/product/0069700118545/biscuits-au-sucre-pretraches\n",
        "# TODO: Uncomment the line below, fill in the values, and run the function\n",
        "get_labels(\"solid\",10,120,1.5,0.1,110,9)"
      ],
      "metadata": {
        "execution": {
          "iopub.status.busy": "2025-02-24T19:42:48.622564Z",
          "iopub.execute_input": "2025-02-24T19:42:48.622945Z",
          "iopub.status.idle": "2025-02-24T19:42:48.631016Z",
          "shell.execute_reply.started": "2025-02-24T19:42:48.622902Z",
          "shell.execute_reply": "2025-02-24T19:42:48.629008Z"
        },
        "trusted": true,
        "id": "tM4TjpS3hXdK",
        "outputId": "1e7fc7da-0574-41ee-de76-1201db625ffa"
      },
      "outputs": [
        {
          "name": "stdout",
          "text": "EXCESO AZÚCARES / EXCESS SUGAR\nEXCESO GRASAS SATURADAS / EXCESS SATURATED FAT\nEXCESO CALORÍAS / EXCESS CALORIES\n",
          "output_type": "stream"
        }
      ],
      "execution_count": null
    },
    {
      "cell_type": "code",
      "source": [
        "# sunkist orange soda https://world-es.openfoodfacts.org/producto/0078000113464/orange-soda-sunkist\n",
        "# TODO: Uncomment the line below, fill in the values, and run the function\n",
        "get_labels(\"liquid\",355,160,0,0,65,44 )"
      ],
      "metadata": {
        "execution": {
          "iopub.status.busy": "2025-02-24T19:45:54.781414Z",
          "iopub.execute_input": "2025-02-24T19:45:54.781791Z",
          "iopub.status.idle": "2025-02-24T19:45:54.787419Z",
          "shell.execute_reply.started": "2025-02-24T19:45:54.78176Z",
          "shell.execute_reply": "2025-02-24T19:45:54.785957Z"
        },
        "trusted": true,
        "id": "0ISWjVzYhXdK",
        "outputId": "b0fea52f-56bb-4e07-ebbb-642aa8e254f8"
      },
      "outputs": [
        {
          "name": "stdout",
          "text": "EXCESO AZÚCARES / EXCESS SUGAR\n",
          "output_type": "stream"
        }
      ],
      "execution_count": null
    },
    {
      "cell_type": "markdown",
      "source": [
        "Once you have finished investigating the food items in this question, run the final code cell to get credit for completing this problem."
      ],
      "metadata": {
        "id": "XhKHQA23hXdL"
      }
    },
    {
      "cell_type": "code",
      "source": [
        "# Get credit for completing the problem\n",
        "q5.check()"
      ],
      "metadata": {
        "trusted": true,
        "execution": {
          "iopub.status.busy": "2025-02-24T19:51:56.654372Z",
          "iopub.execute_input": "2025-02-24T19:51:56.654701Z",
          "iopub.status.idle": "2025-02-24T19:51:56.663382Z",
          "shell.execute_reply.started": "2025-02-24T19:51:56.654677Z",
          "shell.execute_reply": "2025-02-24T19:51:56.662124Z"
        },
        "id": "YtAmetybhXdL",
        "outputId": "177a2e39-261c-4c9f-9406-c79626de6eaf"
      },
      "outputs": [
        {
          "output_type": "display_data",
          "data": {
            "text/plain": "<IPython.core.display.Javascript object>",
            "application/javascript": "parent.postMessage({\"jupyterEvent\": \"custom.exercise_interaction\", \"data\": {\"outcomeType\": 1, \"valueTowardsCompletion\": 0.2, \"interactionType\": 1, \"questionType\": 2, \"questionId\": \"5_GetLabels\", \"learnToolsVersion\": \"0.3.4\", \"failureMessage\": \"\", \"exceptionClass\": \"\", \"trace\": \"\"}}, \"*\")"
          },
          "metadata": {}
        },
        {
          "output_type": "display_data",
          "data": {
            "text/plain": "Once you have determined the labels for all of the food items, you're ready to move on to the next lesson!",
            "text/markdown": "<span style=\"color:#33cc33\">Once you have determined the labels for all of the food items, you're ready to move on to the next lesson!</span>"
          },
          "metadata": {}
        }
      ],
      "execution_count": null
    },
    {
      "cell_type": "markdown",
      "source": [
        "# Keep going\n",
        "\n",
        "Continue to the next lesson to **[learn about Python lists](https://www.kaggle.com/alexisbcook/intro-to-lists)**."
      ],
      "metadata": {
        "id": "g2G_JhtKhXdL"
      }
    },
    {
      "cell_type": "markdown",
      "source": [
        "---\n",
        "\n",
        "\n",
        "\n",
        "\n",
        "*Have questions or comments? Visit the [course discussion forum](https://www.kaggle.com/learn/intro-to-programming/discussion) to chat with other learners.*"
      ],
      "metadata": {
        "id": "5l2itYCwhXdL"
      }
    }
  ]
}