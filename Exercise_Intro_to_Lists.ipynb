{
  "metadata": {
    "kernelspec": {
      "display_name": "Python 3",
      "language": "python",
      "name": "python3"
    },
    "language_info": {
      "name": "python",
      "version": "3.10.12",
      "mimetype": "text/x-python",
      "codemirror_mode": {
        "name": "ipython",
        "version": 3
      },
      "pygments_lexer": "ipython3",
      "nbconvert_exporter": "python",
      "file_extension": ".py"
    },
    "kaggle": {
      "accelerator": "none",
      "dataSources": [],
      "isInternetEnabled": false,
      "language": "python",
      "sourceType": "notebook",
      "isGpuEnabled": false
    },
    "colab": {
      "name": "Exercise: Intro to Lists",
      "provenance": [],
      "include_colab_link": true
    }
  },
  "nbformat_minor": 0,
  "nbformat": 4,
  "cells": [
    {
      "cell_type": "markdown",
      "metadata": {
        "id": "view-in-github",
        "colab_type": "text"
      },
      "source": [
        "<a href=\"https://colab.research.google.com/github/Lorna0001/ENG-219-083-2023/blob/introduction-to-list--python-assignment/Exercise_Intro_to_Lists.ipynb\" target=\"_parent\"><img src=\"https://colab.research.google.com/assets/colab-badge.svg\" alt=\"Open In Colab\"/></a>"
      ]
    },
    {
      "cell_type": "markdown",
      "source": [
        "**This notebook is an exercise in the [Intro to Programming](https://www.kaggle.com/learn/intro-to-programming) course.  You can reference the tutorial at [this link](https://www.kaggle.com/alexisbcook/intro-to-lists).**\n",
        "\n",
        "---\n"
      ],
      "metadata": {
        "id": "O5fKmXLDpSmV"
      }
    },
    {
      "cell_type": "markdown",
      "source": [
        "In the tutorial, you learned how to define and modify Python lists.  In this exercise, you will use your new knowledge to solve several problems.\n",
        "\n",
        "# Set up the notebook\n",
        "\n",
        "Run the next code cell without changes to set up the notebook."
      ],
      "metadata": {
        "id": "bsShD269pSmb"
      }
    },
    {
      "cell_type": "code",
      "source": [
        "from learntools.core import binder\n",
        "binder.bind(globals())\n",
        "from learntools.intro_to_programming.ex5 import *\n",
        "print('Setup complete.')"
      ],
      "metadata": {
        "execution": {
          "iopub.status.busy": "2025-02-24T19:56:03.948793Z",
          "iopub.execute_input": "2025-02-24T19:56:03.948992Z",
          "iopub.status.idle": "2025-02-24T19:56:04.347406Z",
          "shell.execute_reply.started": "2025-02-24T19:56:03.948947Z",
          "shell.execute_reply": "2025-02-24T19:56:04.344121Z"
        },
        "trusted": true,
        "id": "Cb2ztDeXpSmf",
        "outputId": "60948c4b-ba45-467b-db99-b6b52b21670d"
      },
      "outputs": [
        {
          "name": "stdout",
          "text": "Setup complete.\n",
          "output_type": "stream"
        }
      ],
      "execution_count": null
    },
    {
      "cell_type": "markdown",
      "source": [
        "# Question 1\n",
        "\n",
        "You own a restaurant with five food dishes, organized in the Python list `menu` below.  One day, you decide to:\n",
        "- remove bean soup (`'bean soup'`) from the menu, and\n",
        "- add roasted beet salad (`'roasted beet salad'`) to the menu.\n",
        "\n",
        "Implement this change to the list below.  While completing this task,\n",
        "- do not change the line that creates the `menu` list.  \n",
        "- your answer should use `.remove()` and `.append()`.  "
      ],
      "metadata": {
        "id": "6K-EcfERpSmk"
      }
    },
    {
      "cell_type": "code",
      "source": [
        "# Do not change: Initial menu for your restaurant\n",
        "menu = ['stewed meat with onions', 'bean soup', 'risotto with trout and shrimp',\n",
        "       'fish soup with cream and onion', 'gyro']\n",
        "\n",
        "# TODO: remove 'bean soup', and add 'roasted beet salad' to the end of the menu\n",
        "menu.remove(\"bean soup\")\n",
        "menu.append(\"roasted beet salad\")\n",
        "\n",
        "# Do not change: Check your answer\n",
        "q1.check()"
      ],
      "metadata": {
        "trusted": true,
        "execution": {
          "iopub.status.busy": "2025-02-24T20:00:54.10004Z",
          "iopub.execute_input": "2025-02-24T20:00:54.100354Z",
          "iopub.status.idle": "2025-02-24T20:00:54.107319Z",
          "shell.execute_reply.started": "2025-02-24T20:00:54.100334Z",
          "shell.execute_reply": "2025-02-24T20:00:54.106121Z"
        },
        "id": "4C0xjUxipSmn",
        "outputId": "166e5017-303b-4489-90f2-9265ba0d517a"
      },
      "outputs": [
        {
          "output_type": "display_data",
          "data": {
            "text/plain": "<IPython.core.display.Javascript object>",
            "application/javascript": "parent.postMessage({\"jupyterEvent\": \"custom.exercise_interaction\", \"data\": {\"outcomeType\": 1, \"valueTowardsCompletion\": 0.2, \"interactionType\": 1, \"questionType\": 2, \"questionId\": \"1_FoodMenu\", \"learnToolsVersion\": \"0.3.4\", \"failureMessage\": \"\", \"exceptionClass\": \"\", \"trace\": \"\"}}, \"*\")"
          },
          "metadata": {}
        },
        {
          "output_type": "display_data",
          "data": {
            "text/plain": "Correct",
            "text/markdown": "<span style=\"color:#33cc33\">Correct</span>"
          },
          "metadata": {}
        }
      ],
      "execution_count": null
    },
    {
      "cell_type": "code",
      "source": [
        "# Uncomment to see a hint\n",
        "#q1.hint()\n",
        "\n",
        "# Uncomment to see the solution\n",
        "#q1.solution()"
      ],
      "metadata": {
        "trusted": true,
        "execution": {
          "iopub.status.busy": "2025-02-24T19:59:13.858564Z",
          "iopub.execute_input": "2025-02-24T19:59:13.858854Z",
          "iopub.status.idle": "2025-02-24T19:59:13.862418Z",
          "shell.execute_reply.started": "2025-02-24T19:59:13.85883Z",
          "shell.execute_reply": "2025-02-24T19:59:13.861633Z"
        },
        "id": "G9uV0elfpSmt"
      },
      "outputs": [],
      "execution_count": null
    },
    {
      "cell_type": "markdown",
      "source": [
        "# Question 2\n",
        "\n",
        "The list `num_customers` contains the number of customers who came into your restaurant every day over the last month (which lasted thirty days).  Fill in values for each of the following:\n",
        "- `avg_first_seven` - average number of customers who visited in the first seven days\n",
        "- `avg_last_seven` - average number of customers who visited in the last seven days\n",
        "- `max_month` - number of customers on the day that got the most customers in the last month\n",
        "- `min_month` - number of customers on the day that got the least customers in the last month\n",
        "\n",
        "Answer this question by writing code.  For instance, if you have to find the minimum value in a list, use `min()` instead of scanning for the smallest value and directly filling in a number."
      ],
      "metadata": {
        "id": "2J2mYtCkpSmv"
      }
    },
    {
      "cell_type": "code",
      "source": [
        "# Do not change: Number of customers each day for the last month\n",
        "num_customers = [137, 147, 135, 128, 170, 174, 165, 146, 126, 159,\n",
        "                 141, 148, 132, 147, 168, 153, 170, 161, 148, 152,\n",
        "                 141, 151, 131, 149, 164, 163, 143, 143, 166, 171]\n",
        "\n",
        "# TODO: Fill in values for the variables below\n",
        "avg_first_seven = sum(num_customers[:7])/7\n",
        "avg_last_seven = sum(num_customers[-7:])/7\n",
        "max_month = max(num_customers)\n",
        "min_month =min(num_customers)\n",
        "\n",
        "# Do not change: Check your answer\n",
        "q2.check()"
      ],
      "metadata": {
        "execution": {
          "iopub.status.busy": "2025-02-24T20:08:36.780717Z",
          "iopub.execute_input": "2025-02-24T20:08:36.781106Z",
          "iopub.status.idle": "2025-02-24T20:08:36.788737Z",
          "shell.execute_reply.started": "2025-02-24T20:08:36.78108Z",
          "shell.execute_reply": "2025-02-24T20:08:36.787881Z"
        },
        "trusted": true,
        "id": "jFdptc2rpSmy",
        "outputId": "803e5172-4966-43a2-f514-108caac56637"
      },
      "outputs": [
        {
          "output_type": "display_data",
          "data": {
            "text/plain": "<IPython.core.display.Javascript object>",
            "application/javascript": "parent.postMessage({\"jupyterEvent\": \"custom.exercise_interaction\", \"data\": {\"outcomeType\": 1, \"valueTowardsCompletion\": 0.2, \"interactionType\": 1, \"questionType\": 1, \"questionId\": \"2_NumCustomers\", \"learnToolsVersion\": \"0.3.4\", \"failureMessage\": \"\", \"exceptionClass\": \"\", \"trace\": \"\"}}, \"*\")"
          },
          "metadata": {}
        },
        {
          "output_type": "display_data",
          "data": {
            "text/plain": "Correct",
            "text/markdown": "<span style=\"color:#33cc33\">Correct</span>"
          },
          "metadata": {}
        }
      ],
      "execution_count": null
    },
    {
      "cell_type": "code",
      "source": [
        "# Uncomment to see a hint\n",
        "#q2.hint()\n",
        "\n",
        "# Uncomment to see the solution\n",
        "#q2.solution()"
      ],
      "metadata": {
        "trusted": true,
        "execution": {
          "iopub.status.busy": "2025-02-24T20:08:48.890468Z",
          "iopub.execute_input": "2025-02-24T20:08:48.890803Z",
          "iopub.status.idle": "2025-02-24T20:08:48.895315Z",
          "shell.execute_reply.started": "2025-02-24T20:08:48.890775Z",
          "shell.execute_reply": "2025-02-24T20:08:48.893838Z"
        },
        "id": "vivQYMmHpSm2"
      },
      "outputs": [],
      "execution_count": null
    },
    {
      "cell_type": "markdown",
      "source": [
        "# Question 3\n",
        "\n",
        "In the tutorial, we gave an example of a Python string with information that was better as a list."
      ],
      "metadata": {
        "id": "Qf3N0M7lpSm5"
      }
    },
    {
      "cell_type": "code",
      "source": [
        "flowers = \"pink primrose,hard-leaved pocket orchid,canterbury bells,sweet pea,english marigold,tiger lily,moon orchid,bird of paradise,monkshood,globe thistle\""
      ],
      "metadata": {
        "id": "PIutSdPSpSm7"
      },
      "outputs": [],
      "execution_count": null
    },
    {
      "cell_type": "markdown",
      "source": [
        "You can actually use Python to quickly turn this string into a list with `.split()`.  In the parentheses, we need to provide the character should be used to mark the end of one list item and the beginning of another, and enclose it in quotation marks.  In this case, that character is a comma."
      ],
      "metadata": {
        "id": "r01yYIIVpSm8"
      }
    },
    {
      "cell_type": "code",
      "source": [
        " print(flowers.split(\",\"))"
      ],
      "metadata": {
        "trusted": true,
        "execution": {
          "iopub.status.busy": "2025-02-24T20:09:30.248931Z",
          "iopub.execute_input": "2025-02-24T20:09:30.24928Z",
          "iopub.status.idle": "2025-02-24T20:09:30.259478Z",
          "shell.execute_reply.started": "2025-02-24T20:09:30.249254Z",
          "shell.execute_reply": "2025-02-24T20:09:30.258041Z"
        },
        "id": "EX19GAyspSm-",
        "outputId": "b951a0e6-8f92-49dd-e5ba-e2ecea3020c8"
      },
      "outputs": [
        {
          "traceback": [
            "\u001b[0;31m---------------------------------------------------------------------------\u001b[0m",
            "\u001b[0;31mNameError\u001b[0m                                 Traceback (most recent call last)",
            "\u001b[0;32m<ipython-input-17-943f87321775>\u001b[0m in \u001b[0;36m<cell line: 1>\u001b[0;34m()\u001b[0m\n\u001b[0;32m----> 1\u001b[0;31m \u001b[0mprint\u001b[0m\u001b[0;34m(\u001b[0m\u001b[0mflowers\u001b[0m\u001b[0;34m.\u001b[0m\u001b[0msplit\u001b[0m\u001b[0;34m(\u001b[0m\u001b[0;34m\",\"\u001b[0m\u001b[0;34m)\u001b[0m\u001b[0;34m)\u001b[0m\u001b[0;34m\u001b[0m\u001b[0;34m\u001b[0m\u001b[0m\n\u001b[0m",
            "\u001b[0;31mNameError\u001b[0m: name 'flowers' is not defined"
          ],
          "ename": "NameError",
          "evalue": "name 'flowers' is not defined",
          "output_type": "error"
        }
      ],
      "execution_count": null
    },
    {
      "cell_type": "markdown",
      "source": [
        "Now it is your turn to try this out!  Create two Python lists:\n",
        "- `letters` should be a Python list where each entry is an uppercase letter of the English alphabet.  For instance, the first two entries should be `\"A\"` and `\"B\"`, and the final two entries should be `\"Y\"` and `\"Z\"`.  Use the string `alphabet` to create this list.\n",
        "- `address` should be a Python list where each row in `address` is a different item in the list.  Currently, each row in `address` is separated by a comma."
      ],
      "metadata": {
        "id": "8h-ZGZlEpSnA"
      }
    },
    {
      "cell_type": "code",
      "source": [
        "# DO not change: Define two Python strings\n",
        "alphabet = \"A.B.C.D.E.F.G.H.I.J.K.L.M.N.O.P.Q.R.S.T.U.V.W.X.Y.Z\"\n",
        "address = \"Mr. H. Potter,The cupboard under the Stairs,4 Privet Drive,Little Whinging,Surrey\"\n",
        "\n",
        "# TODO: Convert strings into Python lists\n",
        "letters = alphabet.split(\".\")\n",
        "formatted_address = address.split(\",\")\n",
        "\n",
        "# Do not change: Check your answer\n",
        "q3.check()"
      ],
      "metadata": {
        "trusted": true,
        "execution": {
          "iopub.status.busy": "2025-02-24T20:12:46.573119Z",
          "iopub.execute_input": "2025-02-24T20:12:46.573404Z",
          "iopub.status.idle": "2025-02-24T20:12:46.580523Z",
          "shell.execute_reply.started": "2025-02-24T20:12:46.573381Z",
          "shell.execute_reply": "2025-02-24T20:12:46.579607Z"
        },
        "id": "Q2X3MDKPpSnB",
        "outputId": "8ab83bc8-4c24-444e-ec56-433ae59cdefc"
      },
      "outputs": [
        {
          "output_type": "display_data",
          "data": {
            "text/plain": "<IPython.core.display.Javascript object>",
            "application/javascript": "parent.postMessage({\"jupyterEvent\": \"custom.exercise_interaction\", \"data\": {\"outcomeType\": 1, \"valueTowardsCompletion\": 0.2, \"interactionType\": 1, \"questionType\": 1, \"questionId\": \"3_SplitString\", \"learnToolsVersion\": \"0.3.4\", \"failureMessage\": \"\", \"exceptionClass\": \"\", \"trace\": \"\"}}, \"*\")"
          },
          "metadata": {}
        },
        {
          "output_type": "display_data",
          "data": {
            "text/plain": "Correct",
            "text/markdown": "<span style=\"color:#33cc33\">Correct</span>"
          },
          "metadata": {}
        }
      ],
      "execution_count": null
    },
    {
      "cell_type": "code",
      "source": [
        "# Uncomment to see a hint\n",
        "#q3.hint()\n",
        "\n",
        "# Uncomment to see the solution\n",
        "#q3.solution()"
      ],
      "metadata": {
        "trusted": true,
        "execution": {
          "iopub.status.busy": "2025-02-24T20:11:52.171493Z",
          "iopub.execute_input": "2025-02-24T20:11:52.171786Z",
          "iopub.status.idle": "2025-02-24T20:11:52.176207Z",
          "shell.execute_reply.started": "2025-02-24T20:11:52.171762Z",
          "shell.execute_reply": "2025-02-24T20:11:52.175015Z"
        },
        "id": "8J0vVFD5pSnD"
      },
      "outputs": [],
      "execution_count": null
    },
    {
      "cell_type": "markdown",
      "source": [
        "# Question 4\n",
        "\n",
        "In the Python course, you'll learn all about **list comprehensions**, which allow you to create a list based on the values in another list.  In this question, you'll get a brief preview of how they work.\n",
        "\n",
        "Say we're working with the list below."
      ],
      "metadata": {
        "id": "l953AF02pSnF"
      }
    },
    {
      "cell_type": "code",
      "source": [
        "test_ratings = [1, 2, 3, 4, 5]"
      ],
      "metadata": {
        "trusted": true,
        "execution": {
          "iopub.status.busy": "2025-02-24T20:13:28.424346Z",
          "iopub.execute_input": "2025-02-24T20:13:28.42465Z",
          "iopub.status.idle": "2025-02-24T20:13:28.42876Z",
          "shell.execute_reply.started": "2025-02-24T20:13:28.424625Z",
          "shell.execute_reply": "2025-02-24T20:13:28.427555Z"
        },
        "id": "BDAFgezmpSnG"
      },
      "outputs": [],
      "execution_count": null
    },
    {
      "cell_type": "markdown",
      "source": [
        "Then we can use this list (`test_ratings`) to create a new list (`test_liked`) where each item has been turned into a boolean, depending on whether or not the item is greater than or equal to four."
      ],
      "metadata": {
        "id": "UmNYm7oUpSnI"
      }
    },
    {
      "cell_type": "code",
      "source": [
        "test_liked = [i>=4 for i in test_ratings]\n",
        "print(test_liked)"
      ],
      "metadata": {
        "trusted": true,
        "execution": {
          "iopub.status.busy": "2025-02-24T20:13:35.519675Z",
          "iopub.execute_input": "2025-02-24T20:13:35.520047Z",
          "iopub.status.idle": "2025-02-24T20:13:35.524203Z",
          "shell.execute_reply.started": "2025-02-24T20:13:35.520018Z",
          "shell.execute_reply": "2025-02-24T20:13:35.523081Z"
        },
        "id": "D1u7nAxRpSnJ",
        "outputId": "bbeb2b6f-8bc9-49b3-efb8-305fc4cd8cdc"
      },
      "outputs": [
        {
          "name": "stdout",
          "text": "[False, False, False, True, True]\n",
          "output_type": "stream"
        }
      ],
      "execution_count": null
    },
    {
      "cell_type": "markdown",
      "source": [
        "In this question, you'll use this list comprehension to define a function `percentage_liked()` that takes one argument as input:\n",
        "- `ratings`: list of ratings that people gave to a movie, where each rating is a number between 1-5, inclusive\n",
        "\n",
        "We say someone liked the movie, if they gave a rating of either 4 or 5.  Your function should return the percentage of people who liked the movie.\n",
        "\n",
        "For instance, if we supply a value of `[1, 2, 3, 4, 5, 4, 5, 1]`, then 50% (4/8) of the people liked the movie, and the function should return `0.5`.\n",
        "\n",
        "Part of the function has already been completed for you.  You need only use `list_liked` to calculate `percentage_liked`."
      ],
      "metadata": {
        "id": "u0lc-LV3pSnL"
      }
    },
    {
      "cell_type": "code",
      "source": [
        "\n",
        "def percentage_liked(ratings):\n",
        "    list_liked = [i>=4 for i in ratings]\n",
        "    # TODO: Complete the function\n",
        "    percentage_liked = sum(list_liked)/len(list_liked)\n",
        "    return percentage_liked\n",
        "\n",
        "# Do not change: should return 0.5\n",
        "percentage_liked([1, 2, 3, 4, 5, 4, 5, 1])\n",
        "\n",
        "# Do not change: Check your answer\n",
        "q4.check()"
      ],
      "metadata": {
        "trusted": true,
        "execution": {
          "iopub.status.busy": "2025-02-24T20:19:16.252719Z",
          "iopub.execute_input": "2025-02-24T20:19:16.253096Z",
          "iopub.status.idle": "2025-02-24T20:19:16.261103Z",
          "shell.execute_reply.started": "2025-02-24T20:19:16.253067Z",
          "shell.execute_reply": "2025-02-24T20:19:16.259924Z"
        },
        "id": "mFcsoWUrpSnM",
        "outputId": "a7c51dd3-db9d-4d05-8b2e-555f2da6a35e"
      },
      "outputs": [
        {
          "output_type": "display_data",
          "data": {
            "text/plain": "<IPython.core.display.Javascript object>",
            "application/javascript": "parent.postMessage({\"jupyterEvent\": \"custom.exercise_interaction\", \"data\": {\"outcomeType\": 1, \"valueTowardsCompletion\": 0.2, \"interactionType\": 1, \"questionType\": 2, \"questionId\": \"4_PercentageLiked\", \"learnToolsVersion\": \"0.3.4\", \"failureMessage\": \"\", \"exceptionClass\": \"\", \"trace\": \"\"}}, \"*\")"
          },
          "metadata": {}
        },
        {
          "output_type": "display_data",
          "data": {
            "text/plain": "Correct",
            "text/markdown": "<span style=\"color:#33cc33\">Correct</span>"
          },
          "metadata": {}
        }
      ],
      "execution_count": null
    },
    {
      "cell_type": "code",
      "source": [
        "# Uncomment to see a hint\n",
        "#q4.hint()\n",
        "\n",
        "# Uncomment to see the solution\n",
        "#q4.solution()"
      ],
      "metadata": {
        "trusted": true,
        "execution": {
          "iopub.status.busy": "2025-02-24T20:16:57.823729Z",
          "iopub.execute_input": "2025-02-24T20:16:57.824109Z",
          "iopub.status.idle": "2025-02-24T20:16:57.828141Z",
          "shell.execute_reply.started": "2025-02-24T20:16:57.824081Z",
          "shell.execute_reply": "2025-02-24T20:16:57.826938Z"
        },
        "id": "_ox_63ANpSnO"
      },
      "outputs": [],
      "execution_count": null
    },
    {
      "cell_type": "markdown",
      "source": [
        "# 🌶️ Question 5\n",
        "\n",
        "Say you're doing analytics for a website.  You need to write a function that returns the percentage growth in the total number of users relative to a specified number of years ago.\n",
        "\n",
        "Your function `percentage_growth()` should take two arguments as input:\n",
        "- `num_users` = Python list with the total number of users each year.  So `num_users[0]` is the total number of users in the first year, `num_users[1]` is the total number of users in the second year, and so on.  The final entry in the list gives the total number of users in the most recently completed year.\n",
        "- `yrs_ago` = number of years to go back in time when calculating the growth percentage\n",
        "\n",
        "For instance, say `num_users = [920344, 1043553, 1204334, 1458996, 1503323, 1593432, 1623463, 1843064, 1930992, 2001078]`.\n",
        "- if `yrs_ago = 1`, we want the function to return a value of about `0.036`. This corresponds to a percentage growth of approximately 3.6%, calculated as (2001078 - 1930992)/1930992.\n",
        "- if `years_ago = 7`, we would want to return approximately `0.66`.  This corresponds to a percentage growth of approximately 66%, calculated as (2001078 - 1204334)/1204334.\n",
        "\n",
        "Your coworker sent you a draft of a function, but it doesn't seem to be doing the correct calculation.  Can you figure out what has gone wrong and make the needed changes?"
      ],
      "metadata": {
        "id": "lYXOI2GapSnO"
      }
    },
    {
      "cell_type": "code",
      "source": [
        "# TODO: Edit the function\n",
        "def percentage_growth(num_users, yrs_ago):\n",
        "    growth = (num_users[len(num_users)-1] - num_users[len(num_users)-yrs_ago-1])/num_users[len(num_users)-yrs_ago-1]\n",
        "    return growth\n",
        "\n",
        "# Do not change: Variable for calculating some test examples\n",
        "num_users_test = [920344, 1043553, 1204334, 1458996, 1503323, 1593432, 1623463, 1843064, 1930992, 2001078]\n",
        "\n",
        "# Do not change: Should return .036\n",
        "print(percentage_growth(num_users_test, 1))\n",
        "\n",
        "# Do not change: Should return 0.66\n",
        "print(percentage_growth(num_users_test, 7))\n",
        "\n",
        "# Do not change: Check your answer\n",
        "q5.check()"
      ],
      "metadata": {
        "trusted": true,
        "execution": {
          "iopub.status.busy": "2025-02-24T20:26:26.432179Z",
          "iopub.execute_input": "2025-02-24T20:26:26.432464Z",
          "iopub.status.idle": "2025-02-24T20:26:26.441455Z",
          "shell.execute_reply.started": "2025-02-24T20:26:26.432444Z",
          "shell.execute_reply": "2025-02-24T20:26:26.440496Z"
        },
        "id": "_yV-ENTXpSnP",
        "outputId": "a719b05b-7372-4296-9d7c-19614a6afd5f"
      },
      "outputs": [
        {
          "name": "stdout",
          "text": "0.03629533421163837\n0.6615639847417742\n",
          "output_type": "stream"
        },
        {
          "output_type": "display_data",
          "data": {
            "text/plain": "<IPython.core.display.Javascript object>",
            "application/javascript": "parent.postMessage({\"jupyterEvent\": \"custom.exercise_interaction\", \"data\": {\"outcomeType\": 1, \"valueTowardsCompletion\": 0.2, \"interactionType\": 1, \"questionType\": 2, \"questionId\": \"5_WebsiteAnalytics\", \"learnToolsVersion\": \"0.3.4\", \"failureMessage\": \"\", \"exceptionClass\": \"\", \"trace\": \"\"}}, \"*\")"
          },
          "metadata": {}
        },
        {
          "output_type": "display_data",
          "data": {
            "text/plain": "Correct",
            "text/markdown": "<span style=\"color:#33cc33\">Correct</span>"
          },
          "metadata": {}
        }
      ],
      "execution_count": null
    },
    {
      "cell_type": "code",
      "source": [
        "# Uncomment to see a hint\n",
        "#q5.hint()\n",
        "\n",
        "# Uncomment to see the solution\n",
        "q5.solution()"
      ],
      "metadata": {
        "trusted": true,
        "execution": {
          "iopub.status.busy": "2025-02-24T20:22:27.395094Z",
          "iopub.execute_input": "2025-02-24T20:22:27.395404Z",
          "iopub.status.idle": "2025-02-24T20:22:27.402343Z",
          "shell.execute_reply.started": "2025-02-24T20:22:27.39538Z",
          "shell.execute_reply": "2025-02-24T20:22:27.401462Z"
        },
        "id": "8qiJt4HYpSnQ",
        "outputId": "4b2fbb78-f6a9-4998-ed41-3b486f5a8ac2"
      },
      "outputs": [
        {
          "output_type": "display_data",
          "data": {
            "text/plain": "<IPython.core.display.Javascript object>",
            "application/javascript": "parent.postMessage({\"jupyterEvent\": \"custom.exercise_interaction\", \"data\": {\"interactionType\": 3, \"questionType\": 2, \"questionId\": \"5_WebsiteAnalytics\", \"learnToolsVersion\": \"0.3.4\", \"valueTowardsCompletion\": 0.0, \"failureMessage\": \"\", \"exceptionClass\": \"\", \"trace\": \"\", \"outcomeType\": 4}}, \"*\")"
          },
          "metadata": {}
        },
        {
          "output_type": "display_data",
          "data": {
            "text/plain": "Solution: \n```python\ndef percentage_growth(num_users, yrs_ago):\n    growth = (num_users[len(num_users)-1] - num_users[len(num_users)-yrs_ago-1])/num_users[len(num_users)-yrs_ago-1]\n    return growth\n\n```",
            "text/markdown": "<span style=\"color:#33cc99\">Solution:</span> \n```python\ndef percentage_growth(num_users, yrs_ago):\n    growth = (num_users[len(num_users)-1] - num_users[len(num_users)-yrs_ago-1])/num_users[len(num_users)-yrs_ago-1]\n    return growth\n\n```"
          },
          "metadata": {}
        }
      ],
      "execution_count": null
    },
    {
      "cell_type": "markdown",
      "source": [
        "# Congratulations!\n",
        "\n",
        "Congratulations for finishing the Intro to Programming course!  You should be proud of your very first steps with learning programming.  As next steps, we recommend taking:\n",
        "- the **[Python course](http://www.kaggle.com/learn/python)**, and\n",
        "- the **[Intro to Machine Learning course](https://www.kaggle.com/learn/intro-to-machine-learning)**."
      ],
      "metadata": {
        "id": "xYCpZSqPpSnR"
      }
    },
    {
      "cell_type": "markdown",
      "source": [
        "---\n",
        "\n",
        "\n",
        "\n",
        "\n",
        "*Have questions or comments? Visit the [course discussion forum](https://www.kaggle.com/learn/intro-to-programming/discussion) to chat with other learners.*"
      ],
      "metadata": {
        "id": "pvG5i4rBpSnS"
      }
    }
  ]
}